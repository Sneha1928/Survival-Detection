{
  "nbformat": 4,
  "nbformat_minor": 0,
  "metadata": {
    "colab": {
      "name": "Survival Detection",
      "provenance": [],
      "collapsed_sections": [],
      "authorship_tag": "ABX9TyNOFvsJ6uLOqO/529Y60Cua",
      "include_colab_link": true
    },
    "kernelspec": {
      "name": "python3",
      "display_name": "Python 3"
    }
  },
  "cells": [
    {
      "cell_type": "markdown",
      "metadata": {
        "id": "view-in-github",
        "colab_type": "text"
      },
      "source": [
        "<a href=\"https://colab.research.google.com/github/Sneha1928/Survival-Detection/blob/main/Survival_Detection.ipynb\" target=\"_parent\"><img src=\"https://colab.research.google.com/assets/colab-badge.svg\" alt=\"Open In Colab\"/></a>"
      ]
    },
    {
      "cell_type": "markdown",
      "metadata": {
        "id": "fHQmjmG5F4JF"
      },
      "source": [
        "# **Problem Statement**\n",
        "\n",
        "## **Objective**\n"
      ]
    },
    {
      "cell_type": "markdown",
      "metadata": {
        "id": "d2y7MKhdFKDy"
      },
      "source": [
        "**A hospital in the province of Greenland has been trying to improve its care conditions by looking at historic survival of the patients. They tried looking at their data but could not identify the main factors leading to high survivals**.\n",
        "\n",
        "**Being a Data Scientist, I will be solving this problem.I'll be developing a model that will predict the chances of survival of a patient after 1 year of treatment (Survived_1_year)**."
      ]
    },
    {
      "cell_type": "markdown",
      "metadata": {
        "id": "W3_ddDVpGKBv"
      },
      "source": [
        "# **Dataset & Data Description**\n",
        "\n",
        "The dataset contains data collected from a hospital in Greenland. The Target Variable is  “Survived_1_year” column which has binary entries (i.e. 1 and 0)."
      ]
    },
    {
      "cell_type": "markdown",
      "metadata": {
        "id": "1lBscjEiHc2B"
      },
      "source": [
        "\n",
        "\n",
        "*   **Survived_1_year == 0, implies that the patient did not survive after 1 year of treatment**.\n",
        "*   **Survived_1_year == 1, implies that the patient survived after 1 year of treatment**.\n",
        "\n"
      ]
    },
    {
      "cell_type": "markdown",
      "metadata": {
        "id": "fiZpRQChHng3"
      },
      "source": [
        "**Importing Data....**"
      ]
    },
    {
      "cell_type": "code",
      "metadata": {
        "id": "OyL_MX8cEBDK"
      },
      "source": [
        "import pandas as pd\n",
        "data = pd.read_csv('https://raw.githubusercontent.com/dphi-official/Datasets/master/pharma_data/Training_set_begs.csv')"
      ],
      "execution_count": null,
      "outputs": []
    },
    {
      "cell_type": "code",
      "metadata": {
        "id": "xhItgaL4IqRU",
        "colab": {
          "base_uri": "https://localhost:8080/"
        },
        "outputId": "d841ac74-dff8-4a42-e34f-6975681f4eb0"
      },
      "source": [
        "data.info()"
      ],
      "execution_count": null,
      "outputs": [
        {
          "output_type": "stream",
          "text": [
            "<class 'pandas.core.frame.DataFrame'>\n",
            "RangeIndex: 23097 entries, 0 to 23096\n",
            "Data columns (total 18 columns):\n",
            " #   Column                     Non-Null Count  Dtype  \n",
            "---  ------                     --------------  -----  \n",
            " 0   ID_Patient_Care_Situation  23097 non-null  int64  \n",
            " 1   Diagnosed_Condition        23097 non-null  int64  \n",
            " 2   Patient_ID                 23097 non-null  int64  \n",
            " 3   Treated_with_drugs         23084 non-null  object \n",
            " 4   Patient_Age                23097 non-null  int64  \n",
            " 5   Patient_Body_Mass_Index    23097 non-null  float64\n",
            " 6   Patient_Smoker             23097 non-null  object \n",
            " 7   Patient_Rural_Urban        23097 non-null  object \n",
            " 8   Patient_mental_condition   23097 non-null  object \n",
            " 9   A                          21862 non-null  float64\n",
            " 10  B                          21862 non-null  float64\n",
            " 11  C                          21862 non-null  float64\n",
            " 12  D                          21862 non-null  float64\n",
            " 13  E                          21862 non-null  float64\n",
            " 14  F                          21862 non-null  float64\n",
            " 15  Z                          21862 non-null  float64\n",
            " 16  Number_of_prev_cond        21862 non-null  float64\n",
            " 17  Survived_1_year            23097 non-null  int64  \n",
            "dtypes: float64(9), int64(5), object(4)\n",
            "memory usage: 3.2+ MB\n"
          ],
          "name": "stdout"
        }
      ]
    },
    {
      "cell_type": "code",
      "metadata": {
        "id": "VY6Ryyf6Is-f",
        "colab": {
          "base_uri": "https://localhost:8080/",
          "height": 375
        },
        "outputId": "2205515a-0ab3-4870-8b63-055cb88335e8"
      },
      "source": [
        "data.head(10)"
      ],
      "execution_count": null,
      "outputs": [
        {
          "output_type": "execute_result",
          "data": {
            "text/html": [
              "<div>\n",
              "<style scoped>\n",
              "    .dataframe tbody tr th:only-of-type {\n",
              "        vertical-align: middle;\n",
              "    }\n",
              "\n",
              "    .dataframe tbody tr th {\n",
              "        vertical-align: top;\n",
              "    }\n",
              "\n",
              "    .dataframe thead th {\n",
              "        text-align: right;\n",
              "    }\n",
              "</style>\n",
              "<table border=\"1\" class=\"dataframe\">\n",
              "  <thead>\n",
              "    <tr style=\"text-align: right;\">\n",
              "      <th></th>\n",
              "      <th>ID_Patient_Care_Situation</th>\n",
              "      <th>Diagnosed_Condition</th>\n",
              "      <th>Patient_ID</th>\n",
              "      <th>Treated_with_drugs</th>\n",
              "      <th>Patient_Age</th>\n",
              "      <th>Patient_Body_Mass_Index</th>\n",
              "      <th>Patient_Smoker</th>\n",
              "      <th>Patient_Rural_Urban</th>\n",
              "      <th>Patient_mental_condition</th>\n",
              "      <th>A</th>\n",
              "      <th>B</th>\n",
              "      <th>C</th>\n",
              "      <th>D</th>\n",
              "      <th>E</th>\n",
              "      <th>F</th>\n",
              "      <th>Z</th>\n",
              "      <th>Number_of_prev_cond</th>\n",
              "      <th>Survived_1_year</th>\n",
              "    </tr>\n",
              "  </thead>\n",
              "  <tbody>\n",
              "    <tr>\n",
              "      <th>0</th>\n",
              "      <td>22374</td>\n",
              "      <td>8</td>\n",
              "      <td>3333</td>\n",
              "      <td>DX6</td>\n",
              "      <td>56</td>\n",
              "      <td>18.479385</td>\n",
              "      <td>YES</td>\n",
              "      <td>URBAN</td>\n",
              "      <td>Stable</td>\n",
              "      <td>1.0</td>\n",
              "      <td>0.0</td>\n",
              "      <td>0.0</td>\n",
              "      <td>0.0</td>\n",
              "      <td>1.0</td>\n",
              "      <td>0.0</td>\n",
              "      <td>0.0</td>\n",
              "      <td>2.0</td>\n",
              "      <td>0</td>\n",
              "    </tr>\n",
              "    <tr>\n",
              "      <th>1</th>\n",
              "      <td>18164</td>\n",
              "      <td>5</td>\n",
              "      <td>5740</td>\n",
              "      <td>DX2</td>\n",
              "      <td>36</td>\n",
              "      <td>22.945566</td>\n",
              "      <td>YES</td>\n",
              "      <td>RURAL</td>\n",
              "      <td>Stable</td>\n",
              "      <td>1.0</td>\n",
              "      <td>0.0</td>\n",
              "      <td>0.0</td>\n",
              "      <td>0.0</td>\n",
              "      <td>0.0</td>\n",
              "      <td>0.0</td>\n",
              "      <td>0.0</td>\n",
              "      <td>1.0</td>\n",
              "      <td>1</td>\n",
              "    </tr>\n",
              "    <tr>\n",
              "      <th>2</th>\n",
              "      <td>6283</td>\n",
              "      <td>23</td>\n",
              "      <td>10446</td>\n",
              "      <td>DX6</td>\n",
              "      <td>48</td>\n",
              "      <td>27.510027</td>\n",
              "      <td>YES</td>\n",
              "      <td>RURAL</td>\n",
              "      <td>Stable</td>\n",
              "      <td>1.0</td>\n",
              "      <td>0.0</td>\n",
              "      <td>0.0</td>\n",
              "      <td>0.0</td>\n",
              "      <td>0.0</td>\n",
              "      <td>0.0</td>\n",
              "      <td>0.0</td>\n",
              "      <td>1.0</td>\n",
              "      <td>0</td>\n",
              "    </tr>\n",
              "    <tr>\n",
              "      <th>3</th>\n",
              "      <td>5339</td>\n",
              "      <td>51</td>\n",
              "      <td>12011</td>\n",
              "      <td>DX1</td>\n",
              "      <td>5</td>\n",
              "      <td>19.130976</td>\n",
              "      <td>NO</td>\n",
              "      <td>URBAN</td>\n",
              "      <td>Stable</td>\n",
              "      <td>1.0</td>\n",
              "      <td>0.0</td>\n",
              "      <td>0.0</td>\n",
              "      <td>0.0</td>\n",
              "      <td>0.0</td>\n",
              "      <td>0.0</td>\n",
              "      <td>0.0</td>\n",
              "      <td>1.0</td>\n",
              "      <td>1</td>\n",
              "    </tr>\n",
              "    <tr>\n",
              "      <th>4</th>\n",
              "      <td>33012</td>\n",
              "      <td>0</td>\n",
              "      <td>12513</td>\n",
              "      <td>NaN</td>\n",
              "      <td>128</td>\n",
              "      <td>1.348400</td>\n",
              "      <td>Cannot say</td>\n",
              "      <td>RURAL</td>\n",
              "      <td>Stable</td>\n",
              "      <td>0.0</td>\n",
              "      <td>0.0</td>\n",
              "      <td>0.0</td>\n",
              "      <td>0.0</td>\n",
              "      <td>0.0</td>\n",
              "      <td>0.0</td>\n",
              "      <td>1.0</td>\n",
              "      <td>1.0</td>\n",
              "      <td>1</td>\n",
              "    </tr>\n",
              "    <tr>\n",
              "      <th>5</th>\n",
              "      <td>10808</td>\n",
              "      <td>45</td>\n",
              "      <td>7977</td>\n",
              "      <td>DX6</td>\n",
              "      <td>47</td>\n",
              "      <td>26.155120</td>\n",
              "      <td>YES</td>\n",
              "      <td>URBAN</td>\n",
              "      <td>Stable</td>\n",
              "      <td>1.0</td>\n",
              "      <td>0.0</td>\n",
              "      <td>0.0</td>\n",
              "      <td>0.0</td>\n",
              "      <td>0.0</td>\n",
              "      <td>0.0</td>\n",
              "      <td>0.0</td>\n",
              "      <td>1.0</td>\n",
              "      <td>0</td>\n",
              "    </tr>\n",
              "    <tr>\n",
              "      <th>6</th>\n",
              "      <td>5138</td>\n",
              "      <td>52</td>\n",
              "      <td>5296</td>\n",
              "      <td>DX3</td>\n",
              "      <td>53</td>\n",
              "      <td>19.103244</td>\n",
              "      <td>NO</td>\n",
              "      <td>RURAL</td>\n",
              "      <td>Stable</td>\n",
              "      <td>1.0</td>\n",
              "      <td>0.0</td>\n",
              "      <td>0.0</td>\n",
              "      <td>0.0</td>\n",
              "      <td>1.0</td>\n",
              "      <td>0.0</td>\n",
              "      <td>0.0</td>\n",
              "      <td>2.0</td>\n",
              "      <td>1</td>\n",
              "    </tr>\n",
              "    <tr>\n",
              "      <th>7</th>\n",
              "      <td>17265</td>\n",
              "      <td>9</td>\n",
              "      <td>5947</td>\n",
              "      <td>DX5</td>\n",
              "      <td>3</td>\n",
              "      <td>18.126976</td>\n",
              "      <td>NO</td>\n",
              "      <td>URBAN</td>\n",
              "      <td>Stable</td>\n",
              "      <td>1.0</td>\n",
              "      <td>0.0</td>\n",
              "      <td>0.0</td>\n",
              "      <td>0.0</td>\n",
              "      <td>1.0</td>\n",
              "      <td>0.0</td>\n",
              "      <td>0.0</td>\n",
              "      <td>2.0</td>\n",
              "      <td>0</td>\n",
              "    </tr>\n",
              "    <tr>\n",
              "      <th>8</th>\n",
              "      <td>24349</td>\n",
              "      <td>47</td>\n",
              "      <td>6585</td>\n",
              "      <td>DX4</td>\n",
              "      <td>62</td>\n",
              "      <td>25.074482</td>\n",
              "      <td>NO</td>\n",
              "      <td>URBAN</td>\n",
              "      <td>Stable</td>\n",
              "      <td>1.0</td>\n",
              "      <td>0.0</td>\n",
              "      <td>0.0</td>\n",
              "      <td>0.0</td>\n",
              "      <td>0.0</td>\n",
              "      <td>0.0</td>\n",
              "      <td>0.0</td>\n",
              "      <td>1.0</td>\n",
              "      <td>1</td>\n",
              "    </tr>\n",
              "    <tr>\n",
              "      <th>9</th>\n",
              "      <td>1647</td>\n",
              "      <td>17</td>\n",
              "      <td>10190</td>\n",
              "      <td>DX6</td>\n",
              "      <td>46</td>\n",
              "      <td>17.663877</td>\n",
              "      <td>NO</td>\n",
              "      <td>RURAL</td>\n",
              "      <td>Stable</td>\n",
              "      <td>1.0</td>\n",
              "      <td>0.0</td>\n",
              "      <td>0.0</td>\n",
              "      <td>0.0</td>\n",
              "      <td>1.0</td>\n",
              "      <td>0.0</td>\n",
              "      <td>0.0</td>\n",
              "      <td>2.0</td>\n",
              "      <td>1</td>\n",
              "    </tr>\n",
              "  </tbody>\n",
              "</table>\n",
              "</div>"
            ],
            "text/plain": [
              "   ID_Patient_Care_Situation  ...  Survived_1_year\n",
              "0                      22374  ...                0\n",
              "1                      18164  ...                1\n",
              "2                       6283  ...                0\n",
              "3                       5339  ...                1\n",
              "4                      33012  ...                1\n",
              "5                      10808  ...                0\n",
              "6                       5138  ...                1\n",
              "7                      17265  ...                0\n",
              "8                      24349  ...                1\n",
              "9                       1647  ...                1\n",
              "\n",
              "[10 rows x 18 columns]"
            ]
          },
          "metadata": {
            "tags": []
          },
          "execution_count": 547
        }
      ]
    },
    {
      "cell_type": "markdown",
      "metadata": {
        "id": "jRuDrWXSJo1R"
      },
      "source": [
        "\n",
        "\n",
        "*   ID_Patient_Care_Situation: Care situation of a patient during treatment\n",
        "*   Diagnosed_Condition: The diagnosed condition of the patient\n",
        "*   Diagnosed_Condition: The diagnosed condition of the patient\n",
        "*   Treatment_with_drugs: Class of drugs used during treatment\n",
        "*   Survived_1_year: If the patient survived after one year (0 means did not survive; 1 means survived)\n",
        "*   Patient_Age: Age of the patient\n",
        "*   Patient_Body_Mass_Index: A calculated value based on the patient’s weight, height, etc.\n",
        "*   Patient_Smoker: If the patient was a smoker or not\n",
        "*   Patient_Rural_Urban: If the patient stayed in Rural or Urban part of the country\n",
        "*   Previous_Condition: Condition of the patient before the start of the treatment ( This variable is splitted into 8 columns - A, B, C, D, E, F, Z and Number_of_prev_cond. A, B, C, D, E, F and Z are the previous conditions of the patient. Suppose for one patient, if the entry in column A is 1, it means that the previous condition of the patient was A. If the patient didn’t have that condition, it is 0 and same for other conditions. If a patient has previous condition as A and C , columns A and C will have entries as 1 and 1 respectively while the other column B, D, E, F, Z will have entries 0, 0, 0, 0, 0 respectively. The column Number_of_prev_cond will have entry as 2 i.e. 1 + 0 + 1 + 0 + 0 + 0 + 0 + 0 = 2 in this case. )\n",
        "\n"
      ]
    },
    {
      "cell_type": "code",
      "metadata": {
        "id": "atwzdthTI0RI"
      },
      "source": [
        "import pandas as pd   # package for data analysis\n",
        "import numpy as np    # package for numerical computations\n",
        "\n",
        "# libraries for visualization\n",
        "import matplotlib.pyplot as plt\n",
        "import seaborn as sns\n",
        "\n",
        "# For Preprocessing, ML models and Evaluation\n",
        "from sklearn.model_selection import train_test_split   # To split the dataset into train and test set\n",
        "\n",
        "from sklearn.linear_model import LogisticRegression     # Logistic regression model\n",
        "\n",
        "from sklearn import preprocessing\n",
        "from sklearn.preprocessing import LabelEncoder    # for converting categorical to numerical\n",
        "\n",
        "from sklearn.metrics import f1_score    # for model evaluation"
      ],
      "execution_count": null,
      "outputs": []
    },
    {
      "cell_type": "markdown",
      "metadata": {
        "id": "ctw0G0ozOM9u"
      },
      "source": [
        "# **Observations:**\n",
        "\n",
        "\n",
        "1.   There are 23097 observations divided into 17 columns.\n",
        "2.   There are some missing values in the dataset.\n",
        "\n",
        "Let’s take a look at the distribution of our target variable to determine if we have a balanced dataset."
      ]
    },
    {
      "cell_type": "code",
      "metadata": {
        "id": "11XbktfEOat7",
        "colab": {
          "base_uri": "https://localhost:8080/",
          "height": 352
        },
        "outputId": "f4f734f1-7b19-4927-beec-f39a7ece0d90"
      },
      "source": [
        "sns.countplot(\"Survived_1_year\",data=data)"
      ],
      "execution_count": null,
      "outputs": [
        {
          "output_type": "stream",
          "text": [
            "/usr/local/lib/python3.6/dist-packages/seaborn/_decorators.py:43: FutureWarning: Pass the following variable as a keyword arg: x. From version 0.12, the only valid positional argument will be `data`, and passing other arguments without an explicit keyword will result in an error or misinterpretation.\n",
            "  FutureWarning\n"
          ],
          "name": "stderr"
        },
        {
          "output_type": "execute_result",
          "data": {
            "text/plain": [
              "<matplotlib.axes._subplots.AxesSubplot at 0x7fb0a5767908>"
            ]
          },
          "metadata": {
            "tags": []
          },
          "execution_count": 549
        },
        {
          "output_type": "display_data",
          "data": {
            "image/png": "[encoded data removed]",
            "text/plain": [
              "<Figure size 432x288 with 1 Axes>"
            ]
          },
          "metadata": {
            "tags": [],
            "needs_background": "light"
          }
        }
      ]
    },
    {
      "cell_type": "markdown",
      "metadata": {
        "id": "Hi327f6_VIFl"
      },
      "source": [
        "There are 8000+ patients who has not been survived after one year and there are 14000+ who has been survived after one year of treatment. So, the ratio is 1:2. Hence, the set is balanced."
      ]
    },
    {
      "cell_type": "code",
      "metadata": {
        "colab": {
          "base_uri": "https://localhost:8080/"
        },
        "id": "dj_d_XfyVpFj",
        "outputId": "8660c4e9-9568-4ed6-b7fb-c56059632942"
      },
      "source": [
        "num_feat = [i for i in data.columns if data[i].dtypes != 'O' and i !='ID_Patient_Care_Situation' and i != 'Patient_ID']\n",
        "num_feat"
      ],
      "execution_count": null,
      "outputs": [
        {
          "output_type": "execute_result",
          "data": {
            "text/plain": [
              "['Diagnosed_Condition',\n",
              " 'Patient_Age',\n",
              " 'Patient_Body_Mass_Index',\n",
              " 'A',\n",
              " 'B',\n",
              " 'C',\n",
              " 'D',\n",
              " 'E',\n",
              " 'F',\n",
              " 'Z',\n",
              " 'Number_of_prev_cond',\n",
              " 'Survived_1_year']"
            ]
          },
          "metadata": {
            "tags": []
          },
          "execution_count": 550
        }
      ]
    },
    {
      "cell_type": "markdown",
      "metadata": {
        "id": "bISfMkz9YJZ4"
      },
      "source": [
        "'ID_Patient_Care_Situation' and  'Patient_ID' are just ID hence ignoring. Checking if there is null value in the  numerical column."
      ]
    },
    {
      "cell_type": "markdown",
      "metadata": {
        "id": "f6_gH5RAbNMk"
      },
      "source": [
        "'Number_of_prev_cond' in the data set is dependent on 'A','B','C','D','E','F', and 'Z', hence removing it"
      ]
    },
    {
      "cell_type": "code",
      "metadata": {
        "colab": {
          "base_uri": "https://localhost:8080/"
        },
        "id": "yojHUVdAbgyw",
        "outputId": "f94998aa-a661-48cd-92d4-b39669641430"
      },
      "source": [
        "num_feat = [i for i in data.columns if data[i].dtypes != 'O' and i !='ID_Patient_Care_Situation' and i != 'Patient_ID' and i != 'A' and i != 'C' and i != 'B' and i != 'D' and i != 'E' and i != 'F' and i != 'Z']\n",
        "num_feat"
      ],
      "execution_count": null,
      "outputs": [
        {
          "output_type": "execute_result",
          "data": {
            "text/plain": [
              "['Diagnosed_Condition',\n",
              " 'Patient_Age',\n",
              " 'Patient_Body_Mass_Index',\n",
              " 'Number_of_prev_cond',\n",
              " 'Survived_1_year']"
            ]
          },
          "metadata": {
            "tags": []
          },
          "execution_count": 551
        }
      ]
    },
    {
      "cell_type": "code",
      "metadata": {
        "colab": {
          "base_uri": "https://localhost:8080/"
        },
        "id": "rnfNN3ASYZgV",
        "outputId": "eb19ef5f-d77e-4d98-b016-95f315f83063"
      },
      "source": [
        "for j in num_feat:\n",
        "  print(\"missing values in {0} is {1}\".format(j, data[j].isnull().sum()))"
      ],
      "execution_count": null,
      "outputs": [
        {
          "output_type": "stream",
          "text": [
            "missing values in Diagnosed_Condition is 0\n",
            "missing values in Patient_Age is 0\n",
            "missing values in Patient_Body_Mass_Index is 0\n",
            "missing values in Number_of_prev_cond is 1235\n",
            "missing values in Survived_1_year is 0\n"
          ],
          "name": "stdout"
        }
      ]
    },
    {
      "cell_type": "markdown",
      "metadata": {
        "id": "y0Y2ZL80b-Mm"
      },
      "source": [
        "Since Number_of_prev_cond is dependent on A, B, C, D, E, F,Z and these columns are contains categorical columns.So the column ‘Number_of_prev_cond’ have discrete values from integers 0 to 7 and can be considered as categorical column as it has only 7 different values. Hence here we can fill the missing values with mode. Hence, we will use mode for imputation of missing value."
      ]
    },
    {
      "cell_type": "code",
      "metadata": {
        "id": "1H_wkoQUZPyT"
      },
      "source": [
        "data['Number_of_prev_cond'] = data['Number_of_prev_cond'].fillna(data['Number_of_prev_cond'].mode()[0])"
      ],
      "execution_count": null,
      "outputs": []
    },
    {
      "cell_type": "code",
      "metadata": {
        "colab": {
          "base_uri": "https://localhost:8080/"
        },
        "id": "bpp9xQMjZjUY",
        "outputId": "dd40f558-8ce8-41fc-f2ec-34efd14fd04f"
      },
      "source": [
        "for j in num_feat:\n",
        "  print(\"missing values in {0} is {1}\".format(j, data[j].isnull().sum()))"
      ],
      "execution_count": null,
      "outputs": [
        {
          "output_type": "stream",
          "text": [
            "missing values in Diagnosed_Condition is 0\n",
            "missing values in Patient_Age is 0\n",
            "missing values in Patient_Body_Mass_Index is 0\n",
            "missing values in Number_of_prev_cond is 0\n",
            "missing values in Survived_1_year is 0\n"
          ],
          "name": "stdout"
        }
      ]
    },
    {
      "cell_type": "code",
      "metadata": {
        "id": "5-ZxkSaugKSH"
      },
      "source": [
        ""
      ],
      "execution_count": null,
      "outputs": []
    },
    {
      "cell_type": "code",
      "metadata": {
        "colab": {
          "base_uri": "https://localhost:8080/"
        },
        "id": "hglTqnKXhMNS",
        "outputId": "828c6b69-80ce-4865-f23d-e6d9ac3237c5"
      },
      "source": [
        "for j in num_feat:\n",
        "  print(data[j].describe())"
      ],
      "execution_count": null,
      "outputs": [
        {
          "output_type": "stream",
          "text": [
            "count    23097.000000\n",
            "mean        26.413127\n",
            "std         15.030865\n",
            "min          0.000000\n",
            "25%         13.000000\n",
            "50%         26.000000\n",
            "75%         39.000000\n",
            "max         52.000000\n",
            "Name: Diagnosed_Condition, dtype: float64\n",
            "count    23097.000000\n",
            "mean        33.209768\n",
            "std         19.549882\n",
            "min          0.000000\n",
            "25%         16.000000\n",
            "50%         33.000000\n",
            "75%         50.000000\n",
            "max        149.000000\n",
            "Name: Patient_Age, dtype: float64\n",
            "count    23097.000000\n",
            "mean        23.454820\n",
            "std          3.807661\n",
            "min          1.089300\n",
            "25%         20.205550\n",
            "50%         23.386199\n",
            "75%         26.788154\n",
            "max         29.999579\n",
            "Name: Patient_Body_Mass_Index, dtype: float64\n",
            "count    23097.000000\n",
            "mean         1.710352\n",
            "std          0.768216\n",
            "min          1.000000\n",
            "25%          1.000000\n",
            "50%          2.000000\n",
            "75%          2.000000\n",
            "max          5.000000\n",
            "Name: Number_of_prev_cond, dtype: float64\n",
            "count    23097.000000\n",
            "mean         0.632247\n",
            "std          0.482204\n",
            "min          0.000000\n",
            "25%          0.000000\n",
            "50%          1.000000\n",
            "75%          1.000000\n",
            "max          1.000000\n",
            "Name: Survived_1_year, dtype: float64\n"
          ],
          "name": "stdout"
        }
      ]
    },
    {
      "cell_type": "code",
      "metadata": {
        "colab": {
          "base_uri": "https://localhost:8080/",
          "height": 404
        },
        "id": "HBzPjm6Zht4R",
        "outputId": "a968816e-3a6c-4ce6-d9f4-07b20219f73d"
      },
      "source": [
        "plt.boxplot(data['Diagnosed_Condition'])"
      ],
      "execution_count": null,
      "outputs": [
        {
          "output_type": "execute_result",
          "data": {
            "text/plain": [
              "{'boxes': [<matplotlib.lines.Line2D at 0x7fb0a5c6a278>],\n",
              " 'caps': [<matplotlib.lines.Line2D at 0x7fb0a5c6ac88>,\n",
              "  <matplotlib.lines.Line2D at 0x7fb0a5c74048>],\n",
              " 'fliers': [<matplotlib.lines.Line2D at 0x7fb0a5c74748>],\n",
              " 'means': [],\n",
              " 'medians': [<matplotlib.lines.Line2D at 0x7fb0a5c743c8>],\n",
              " 'whiskers': [<matplotlib.lines.Line2D at 0x7fb0a5c6a588>,\n",
              "  <matplotlib.lines.Line2D at 0x7fb0a5c6a908>]}"
            ]
          },
          "metadata": {
            "tags": []
          },
          "execution_count": 556
        },
        {
          "output_type": "display_data",
          "data": {
            "image/png": "[encoded data removed]",
            "text/plain": [
              "<Figure size 432x288 with 1 Axes>"
            ]
          },
          "metadata": {
            "tags": [],
            "needs_background": "light"
          }
        }
      ]
    },
    {
      "cell_type": "code",
      "metadata": {
        "colab": {
          "base_uri": "https://localhost:8080/",
          "height": 404
        },
        "id": "JjceOK-SE7Jj",
        "outputId": "2f0aac8a-d6ed-4ae5-c1a5-a5fc15d541ef"
      },
      "source": [
        "plt.boxplot(data['Patient_Age'])"
      ],
      "execution_count": null,
      "outputs": [
        {
          "output_type": "execute_result",
          "data": {
            "text/plain": [
              "{'boxes': [<matplotlib.lines.Line2D at 0x7fb0a603d8d0>],\n",
              " 'caps': [<matplotlib.lines.Line2D at 0x7fb0a6048320>,\n",
              "  <matplotlib.lines.Line2D at 0x7fb0a60486a0>],\n",
              " 'fliers': [<matplotlib.lines.Line2D at 0x7fb0a6048da0>],\n",
              " 'means': [],\n",
              " 'medians': [<matplotlib.lines.Line2D at 0x7fb0a6048a20>],\n",
              " 'whiskers': [<matplotlib.lines.Line2D at 0x7fb0a603dbe0>,\n",
              "  <matplotlib.lines.Line2D at 0x7fb0a603df60>]}"
            ]
          },
          "metadata": {
            "tags": []
          },
          "execution_count": 557
        },
        {
          "output_type": "display_data",
          "data": {
            "image/png": "[encoded data removed]",
            "text/plain": [
              "<Figure size 432x288 with 1 Axes>"
            ]
          },
          "metadata": {
            "tags": [],
            "needs_background": "light"
          }
        }
      ]
    },
    {
      "cell_type": "code",
      "metadata": {
        "colab": {
          "base_uri": "https://localhost:8080/",
          "height": 404
        },
        "id": "BBMObFA7E2hT",
        "outputId": "ee005048-456d-47d8-bad6-864ceb177f38"
      },
      "source": [
        "plt.boxplot(data['Patient_Body_Mass_Index'])"
      ],
      "execution_count": null,
      "outputs": [
        {
          "output_type": "execute_result",
          "data": {
            "text/plain": [
              "{'boxes': [<matplotlib.lines.Line2D at 0x7fb0a5f9f940>],\n",
              " 'caps': [<matplotlib.lines.Line2D at 0x7fb0a5fab390>,\n",
              "  <matplotlib.lines.Line2D at 0x7fb0a5fab710>],\n",
              " 'fliers': [<matplotlib.lines.Line2D at 0x7fb0a5fabe10>],\n",
              " 'means': [],\n",
              " 'medians': [<matplotlib.lines.Line2D at 0x7fb0a5faba90>],\n",
              " 'whiskers': [<matplotlib.lines.Line2D at 0x7fb0a5f9fc50>,\n",
              "  <matplotlib.lines.Line2D at 0x7fb0a5f9ffd0>]}"
            ]
          },
          "metadata": {
            "tags": []
          },
          "execution_count": 558
        },
        {
          "output_type": "display_data",
          "data": {
            "image/png": "[encoded data removed]",
            "text/plain": [
              "<Figure size 432x288 with 1 Axes>"
            ]
          },
          "metadata": {
            "tags": [],
            "needs_background": "light"
          }
        }
      ]
    },
    {
      "cell_type": "code",
      "metadata": {
        "colab": {
          "base_uri": "https://localhost:8080/",
          "height": 404
        },
        "id": "xAqOmN9rEwpJ",
        "outputId": "49d59cee-9306-42a5-aca2-b89e5309fc35"
      },
      "source": [
        "plt.boxplot(data['Number_of_prev_cond'])"
      ],
      "execution_count": null,
      "outputs": [
        {
          "output_type": "execute_result",
          "data": {
            "text/plain": [
              "{'boxes': [<matplotlib.lines.Line2D at 0x7fb0a5f3d5f8>],\n",
              " 'caps': [<matplotlib.lines.Line2D at 0x7fb0a5f48048>,\n",
              "  <matplotlib.lines.Line2D at 0x7fb0a5f483c8>],\n",
              " 'fliers': [<matplotlib.lines.Line2D at 0x7fb0a5f48ac8>],\n",
              " 'means': [],\n",
              " 'medians': [<matplotlib.lines.Line2D at 0x7fb0a5f48748>],\n",
              " 'whiskers': [<matplotlib.lines.Line2D at 0x7fb0a5f3d908>,\n",
              "  <matplotlib.lines.Line2D at 0x7fb0a5f3dc88>]}"
            ]
          },
          "metadata": {
            "tags": []
          },
          "execution_count": 559
        },
        {
          "output_type": "display_data",
          "data": {
            "image/png": "[encoded data removed]",
            "text/plain": [
              "<Figure size 432x288 with 1 Axes>"
            ]
          },
          "metadata": {
            "tags": [],
            "needs_background": "light"
          }
        }
      ]
    },
    {
      "cell_type": "code",
      "metadata": {
        "colab": {
          "base_uri": "https://localhost:8080/",
          "height": 404
        },
        "id": "8qKQxeK5Es22",
        "outputId": "1e3ea5fc-21a1-4495-a21c-8a1234506300"
      },
      "source": [
        "plt.boxplot(data['Survived_1_year'])"
      ],
      "execution_count": null,
      "outputs": [
        {
          "output_type": "execute_result",
          "data": {
            "text/plain": [
              "{'boxes': [<matplotlib.lines.Line2D at 0x7fb0a5bdfbe0>],\n",
              " 'caps': [<matplotlib.lines.Line2D at 0x7fb0a5bed630>,\n",
              "  <matplotlib.lines.Line2D at 0x7fb0a5bed9b0>],\n",
              " 'fliers': [<matplotlib.lines.Line2D at 0x7fb0a5bf70f0>],\n",
              " 'means': [],\n",
              " 'medians': [<matplotlib.lines.Line2D at 0x7fb0a5bedd30>],\n",
              " 'whiskers': [<matplotlib.lines.Line2D at 0x7fb0a5bdfef0>,\n",
              "  <matplotlib.lines.Line2D at 0x7fb0a5bed2b0>]}"
            ]
          },
          "metadata": {
            "tags": []
          },
          "execution_count": 560
        },
        {
          "output_type": "display_data",
          "data": {
            "image/png": "[encoded data removed]",
            "text/plain": [
              "<Figure size 432x288 with 1 Axes>"
            ]
          },
          "metadata": {
            "tags": [],
            "needs_background": "light"
          }
        }
      ]
    },
    {
      "cell_type": "markdown",
      "metadata": {
        "id": "Mg1gSL7fFcBI"
      },
      "source": [
        ""
      ]
    },
    {
      "cell_type": "code",
      "metadata": {
        "colab": {
          "base_uri": "https://localhost:8080/",
          "height": 222
        },
        "id": "i0fMVDGcHnzF",
        "outputId": "58dc6ca0-67c2-4a3b-d314-e12e08dfca4d"
      },
      "source": [
        "datanum = data.select_dtypes(include=[np.number])\n",
        "datanum.head(5)"
      ],
      "execution_count": null,
      "outputs": [
        {
          "output_type": "execute_result",
          "data": {
            "text/html": [
              "<div>\n",
              "<style scoped>\n",
              "    .dataframe tbody tr th:only-of-type {\n",
              "        vertical-align: middle;\n",
              "    }\n",
              "\n",
              "    .dataframe tbody tr th {\n",
              "        vertical-align: top;\n",
              "    }\n",
              "\n",
              "    .dataframe thead th {\n",
              "        text-align: right;\n",
              "    }\n",
              "</style>\n",
              "<table border=\"1\" class=\"dataframe\">\n",
              "  <thead>\n",
              "    <tr style=\"text-align: right;\">\n",
              "      <th></th>\n",
              "      <th>ID_Patient_Care_Situation</th>\n",
              "      <th>Diagnosed_Condition</th>\n",
              "      <th>Patient_ID</th>\n",
              "      <th>Patient_Age</th>\n",
              "      <th>Patient_Body_Mass_Index</th>\n",
              "      <th>A</th>\n",
              "      <th>B</th>\n",
              "      <th>C</th>\n",
              "      <th>D</th>\n",
              "      <th>E</th>\n",
              "      <th>F</th>\n",
              "      <th>Z</th>\n",
              "      <th>Number_of_prev_cond</th>\n",
              "      <th>Survived_1_year</th>\n",
              "    </tr>\n",
              "  </thead>\n",
              "  <tbody>\n",
              "    <tr>\n",
              "      <th>0</th>\n",
              "      <td>22374</td>\n",
              "      <td>8</td>\n",
              "      <td>3333</td>\n",
              "      <td>56</td>\n",
              "      <td>18.479385</td>\n",
              "      <td>1.0</td>\n",
              "      <td>0.0</td>\n",
              "      <td>0.0</td>\n",
              "      <td>0.0</td>\n",
              "      <td>1.0</td>\n",
              "      <td>0.0</td>\n",
              "      <td>0.0</td>\n",
              "      <td>2.0</td>\n",
              "      <td>0</td>\n",
              "    </tr>\n",
              "    <tr>\n",
              "      <th>1</th>\n",
              "      <td>18164</td>\n",
              "      <td>5</td>\n",
              "      <td>5740</td>\n",
              "      <td>36</td>\n",
              "      <td>22.945566</td>\n",
              "      <td>1.0</td>\n",
              "      <td>0.0</td>\n",
              "      <td>0.0</td>\n",
              "      <td>0.0</td>\n",
              "      <td>0.0</td>\n",
              "      <td>0.0</td>\n",
              "      <td>0.0</td>\n",
              "      <td>1.0</td>\n",
              "      <td>1</td>\n",
              "    </tr>\n",
              "    <tr>\n",
              "      <th>2</th>\n",
              "      <td>6283</td>\n",
              "      <td>23</td>\n",
              "      <td>10446</td>\n",
              "      <td>48</td>\n",
              "      <td>27.510027</td>\n",
              "      <td>1.0</td>\n",
              "      <td>0.0</td>\n",
              "      <td>0.0</td>\n",
              "      <td>0.0</td>\n",
              "      <td>0.0</td>\n",
              "      <td>0.0</td>\n",
              "      <td>0.0</td>\n",
              "      <td>1.0</td>\n",
              "      <td>0</td>\n",
              "    </tr>\n",
              "    <tr>\n",
              "      <th>3</th>\n",
              "      <td>5339</td>\n",
              "      <td>51</td>\n",
              "      <td>12011</td>\n",
              "      <td>5</td>\n",
              "      <td>19.130976</td>\n",
              "      <td>1.0</td>\n",
              "      <td>0.0</td>\n",
              "      <td>0.0</td>\n",
              "      <td>0.0</td>\n",
              "      <td>0.0</td>\n",
              "      <td>0.0</td>\n",
              "      <td>0.0</td>\n",
              "      <td>1.0</td>\n",
              "      <td>1</td>\n",
              "    </tr>\n",
              "    <tr>\n",
              "      <th>4</th>\n",
              "      <td>33012</td>\n",
              "      <td>0</td>\n",
              "      <td>12513</td>\n",
              "      <td>128</td>\n",
              "      <td>1.348400</td>\n",
              "      <td>0.0</td>\n",
              "      <td>0.0</td>\n",
              "      <td>0.0</td>\n",
              "      <td>0.0</td>\n",
              "      <td>0.0</td>\n",
              "      <td>0.0</td>\n",
              "      <td>1.0</td>\n",
              "      <td>1.0</td>\n",
              "      <td>1</td>\n",
              "    </tr>\n",
              "  </tbody>\n",
              "</table>\n",
              "</div>"
            ],
            "text/plain": [
              "   ID_Patient_Care_Situation  ...  Survived_1_year\n",
              "0                      22374  ...                0\n",
              "1                      18164  ...                1\n",
              "2                       6283  ...                0\n",
              "3                       5339  ...                1\n",
              "4                      33012  ...                1\n",
              "\n",
              "[5 rows x 14 columns]"
            ]
          },
          "metadata": {
            "tags": []
          },
          "execution_count": 561
        }
      ]
    },
    {
      "cell_type": "code",
      "metadata": {
        "id": "QpDUnuVOH8Ln"
      },
      "source": [
        "datanum = datanum.drop(['ID_Patient_Care_Situation','Patient_ID','A', 'C' ,'B','D','E', 'F' , 'Z','Survived_1_year'],axis=1)"
      ],
      "execution_count": null,
      "outputs": []
    },
    {
      "cell_type": "code",
      "metadata": {
        "colab": {
          "base_uri": "https://localhost:8080/"
        },
        "id": "zoxbsoBPFbJc",
        "outputId": "8fd36080-7f04-4ff2-f16b-8c1a003fcaf3"
      },
      "source": [
        "from scipy import stats\n",
        "import numpy as np\n",
        "z = np.abs(stats.zscore(datanum))\n",
        "print(z)"
      ],
      "execution_count": null,
      "outputs": [
        {
          "output_type": "stream",
          "text": [
            "[[1.22504763 1.16577305 1.30671867 0.37704774]\n",
            " [1.42464126 0.14272684 0.1337474  0.9246969 ]\n",
            " [0.22707948 0.75655456 1.06503569 0.9246969 ]\n",
            " ...\n",
            " [0.16054827 1.52383922 1.0624125  0.9246969 ]\n",
            " [1.025454   0.41994858 0.06941569 0.37704774]\n",
            " [0.3601419  0.85885918 1.32989062 2.98053703]]\n"
          ],
          "name": "stdout"
        }
      ]
    },
    {
      "cell_type": "markdown",
      "metadata": {
        "id": "g8xhyFwPNdEz"
      },
      "source": [
        "Correlation"
      ]
    },
    {
      "cell_type": "code",
      "metadata": {
        "colab": {
          "base_uri": "https://localhost:8080/",
          "height": 171
        },
        "id": "f-gjv9wUFa7Y",
        "outputId": "947c3e51-d3b4-4d6e-fd48-3701679abce4"
      },
      "source": [
        "datanum.corr()"
      ],
      "execution_count": null,
      "outputs": [
        {
          "output_type": "execute_result",
          "data": {
            "text/html": [
              "<div>\n",
              "<style scoped>\n",
              "    .dataframe tbody tr th:only-of-type {\n",
              "        vertical-align: middle;\n",
              "    }\n",
              "\n",
              "    .dataframe tbody tr th {\n",
              "        vertical-align: top;\n",
              "    }\n",
              "\n",
              "    .dataframe thead th {\n",
              "        text-align: right;\n",
              "    }\n",
              "</style>\n",
              "<table border=\"1\" class=\"dataframe\">\n",
              "  <thead>\n",
              "    <tr style=\"text-align: right;\">\n",
              "      <th></th>\n",
              "      <th>Diagnosed_Condition</th>\n",
              "      <th>Patient_Age</th>\n",
              "      <th>Patient_Body_Mass_Index</th>\n",
              "      <th>Number_of_prev_cond</th>\n",
              "    </tr>\n",
              "  </thead>\n",
              "  <tbody>\n",
              "    <tr>\n",
              "      <th>Diagnosed_Condition</th>\n",
              "      <td>1.000000</td>\n",
              "      <td>-0.008971</td>\n",
              "      <td>0.008305</td>\n",
              "      <td>0.002793</td>\n",
              "    </tr>\n",
              "    <tr>\n",
              "      <th>Patient_Age</th>\n",
              "      <td>-0.008971</td>\n",
              "      <td>1.000000</td>\n",
              "      <td>-0.006560</td>\n",
              "      <td>-0.014670</td>\n",
              "    </tr>\n",
              "    <tr>\n",
              "      <th>Patient_Body_Mass_Index</th>\n",
              "      <td>0.008305</td>\n",
              "      <td>-0.006560</td>\n",
              "      <td>1.000000</td>\n",
              "      <td>-0.016848</td>\n",
              "    </tr>\n",
              "    <tr>\n",
              "      <th>Number_of_prev_cond</th>\n",
              "      <td>0.002793</td>\n",
              "      <td>-0.014670</td>\n",
              "      <td>-0.016848</td>\n",
              "      <td>1.000000</td>\n",
              "    </tr>\n",
              "  </tbody>\n",
              "</table>\n",
              "</div>"
            ],
            "text/plain": [
              "                         Diagnosed_Condition  ...  Number_of_prev_cond\n",
              "Diagnosed_Condition                 1.000000  ...             0.002793\n",
              "Patient_Age                        -0.008971  ...            -0.014670\n",
              "Patient_Body_Mass_Index             0.008305  ...            -0.016848\n",
              "Number_of_prev_cond                 0.002793  ...             1.000000\n",
              "\n",
              "[4 rows x 4 columns]"
            ]
          },
          "metadata": {
            "tags": []
          },
          "execution_count": 564
        }
      ]
    },
    {
      "cell_type": "markdown",
      "metadata": {
        "id": "R_7U4m9iN_AA"
      },
      "source": [
        "Finally, we must look at the EDA for our categorical variables. However, before analyzing the categorical columns further, we will treat the missing values."
      ]
    },
    {
      "cell_type": "code",
      "metadata": {
        "colab": {
          "base_uri": "https://localhost:8080/"
        },
        "id": "3gPAGAJvOAFX",
        "outputId": "259ab173-9a43-46e5-da2f-94648b414d28"
      },
      "source": [
        "data.isnull().sum()"
      ],
      "execution_count": null,
      "outputs": [
        {
          "output_type": "execute_result",
          "data": {
            "text/plain": [
              "ID_Patient_Care_Situation       0\n",
              "Diagnosed_Condition             0\n",
              "Patient_ID                      0\n",
              "Treated_with_drugs             13\n",
              "Patient_Age                     0\n",
              "Patient_Body_Mass_Index         0\n",
              "Patient_Smoker                  0\n",
              "Patient_Rural_Urban             0\n",
              "Patient_mental_condition        0\n",
              "A                            1235\n",
              "B                            1235\n",
              "C                            1235\n",
              "D                            1235\n",
              "E                            1235\n",
              "F                            1235\n",
              "Z                            1235\n",
              "Number_of_prev_cond             0\n",
              "Survived_1_year                 0\n",
              "dtype: int64"
            ]
          },
          "metadata": {
            "tags": []
          },
          "execution_count": 565
        }
      ]
    },
    {
      "cell_type": "code",
      "metadata": {
        "id": "9QhaDItHOOD-"
      },
      "source": [
        "data['Treated_with_drugs'] = data['Treated_with_drugs'].fillna(data['Treated_with_drugs'].mode()[0])"
      ],
      "execution_count": null,
      "outputs": []
    },
    {
      "cell_type": "code",
      "metadata": {
        "id": "VbrWuM4NO5Hn"
      },
      "source": [
        "data['A'].fillna(data['A'].mode()[0], inplace = True)\n",
        "data['B'].fillna(data['B'].mode()[0], inplace = True)\n",
        "data['C'].fillna(data['C'].mode()[0], inplace = True)\n",
        "data['D'].fillna(data['D'].mode()[0], inplace = True)\n",
        "data['E'].fillna(data['E'].mode()[0], inplace = True)\n",
        "data['F'].fillna(data['F'].mode()[0], inplace = True)\n",
        "data['Z'].fillna(data['Z'].mode()[0], inplace = True)"
      ],
      "execution_count": null,
      "outputs": []
    },
    {
      "cell_type": "code",
      "metadata": {
        "colab": {
          "base_uri": "https://localhost:8080/"
        },
        "id": "hLyGypE0O67E",
        "outputId": "29676f9c-867e-4a9c-8954-312c6883b779"
      },
      "source": [
        "data.isnull().sum()"
      ],
      "execution_count": null,
      "outputs": [
        {
          "output_type": "execute_result",
          "data": {
            "text/plain": [
              "ID_Patient_Care_Situation    0\n",
              "Diagnosed_Condition          0\n",
              "Patient_ID                   0\n",
              "Treated_with_drugs           0\n",
              "Patient_Age                  0\n",
              "Patient_Body_Mass_Index      0\n",
              "Patient_Smoker               0\n",
              "Patient_Rural_Urban          0\n",
              "Patient_mental_condition     0\n",
              "A                            0\n",
              "B                            0\n",
              "C                            0\n",
              "D                            0\n",
              "E                            0\n",
              "F                            0\n",
              "Z                            0\n",
              "Number_of_prev_cond          0\n",
              "Survived_1_year              0\n",
              "dtype: int64"
            ]
          },
          "metadata": {
            "tags": []
          },
          "execution_count": 568
        }
      ]
    },
    {
      "cell_type": "markdown",
      "metadata": {
        "id": "NqXlvZJZcPNu"
      },
      "source": [
        "Handling Categorical Variable"
      ]
    },
    {
      "cell_type": "markdown",
      "metadata": {
        "id": "BFRGa4rfdTeV"
      },
      "source": [
        "We will find which are the categorical variables. We can see that datanum has numerical data then remaining data are categorical. We haven't done feature selection yet."
      ]
    },
    {
      "cell_type": "code",
      "metadata": {
        "colab": {
          "base_uri": "https://localhost:8080/",
          "height": 222
        },
        "id": "RPk-MBmbdG7n",
        "outputId": "426f15e1-a408-4add-e305-7df4f3cc7de7"
      },
      "source": [
        "cat_feat = data.drop(datanum.columns,axis=1)\n",
        "cat_feat.head()"
      ],
      "execution_count": null,
      "outputs": [
        {
          "output_type": "execute_result",
          "data": {
            "text/html": [
              "<div>\n",
              "<style scoped>\n",
              "    .dataframe tbody tr th:only-of-type {\n",
              "        vertical-align: middle;\n",
              "    }\n",
              "\n",
              "    .dataframe tbody tr th {\n",
              "        vertical-align: top;\n",
              "    }\n",
              "\n",
              "    .dataframe thead th {\n",
              "        text-align: right;\n",
              "    }\n",
              "</style>\n",
              "<table border=\"1\" class=\"dataframe\">\n",
              "  <thead>\n",
              "    <tr style=\"text-align: right;\">\n",
              "      <th></th>\n",
              "      <th>ID_Patient_Care_Situation</th>\n",
              "      <th>Patient_ID</th>\n",
              "      <th>Treated_with_drugs</th>\n",
              "      <th>Patient_Smoker</th>\n",
              "      <th>Patient_Rural_Urban</th>\n",
              "      <th>Patient_mental_condition</th>\n",
              "      <th>A</th>\n",
              "      <th>B</th>\n",
              "      <th>C</th>\n",
              "      <th>D</th>\n",
              "      <th>E</th>\n",
              "      <th>F</th>\n",
              "      <th>Z</th>\n",
              "      <th>Survived_1_year</th>\n",
              "    </tr>\n",
              "  </thead>\n",
              "  <tbody>\n",
              "    <tr>\n",
              "      <th>0</th>\n",
              "      <td>22374</td>\n",
              "      <td>3333</td>\n",
              "      <td>DX6</td>\n",
              "      <td>YES</td>\n",
              "      <td>URBAN</td>\n",
              "      <td>Stable</td>\n",
              "      <td>1.0</td>\n",
              "      <td>0.0</td>\n",
              "      <td>0.0</td>\n",
              "      <td>0.0</td>\n",
              "      <td>1.0</td>\n",
              "      <td>0.0</td>\n",
              "      <td>0.0</td>\n",
              "      <td>0</td>\n",
              "    </tr>\n",
              "    <tr>\n",
              "      <th>1</th>\n",
              "      <td>18164</td>\n",
              "      <td>5740</td>\n",
              "      <td>DX2</td>\n",
              "      <td>YES</td>\n",
              "      <td>RURAL</td>\n",
              "      <td>Stable</td>\n",
              "      <td>1.0</td>\n",
              "      <td>0.0</td>\n",
              "      <td>0.0</td>\n",
              "      <td>0.0</td>\n",
              "      <td>0.0</td>\n",
              "      <td>0.0</td>\n",
              "      <td>0.0</td>\n",
              "      <td>1</td>\n",
              "    </tr>\n",
              "    <tr>\n",
              "      <th>2</th>\n",
              "      <td>6283</td>\n",
              "      <td>10446</td>\n",
              "      <td>DX6</td>\n",
              "      <td>YES</td>\n",
              "      <td>RURAL</td>\n",
              "      <td>Stable</td>\n",
              "      <td>1.0</td>\n",
              "      <td>0.0</td>\n",
              "      <td>0.0</td>\n",
              "      <td>0.0</td>\n",
              "      <td>0.0</td>\n",
              "      <td>0.0</td>\n",
              "      <td>0.0</td>\n",
              "      <td>0</td>\n",
              "    </tr>\n",
              "    <tr>\n",
              "      <th>3</th>\n",
              "      <td>5339</td>\n",
              "      <td>12011</td>\n",
              "      <td>DX1</td>\n",
              "      <td>NO</td>\n",
              "      <td>URBAN</td>\n",
              "      <td>Stable</td>\n",
              "      <td>1.0</td>\n",
              "      <td>0.0</td>\n",
              "      <td>0.0</td>\n",
              "      <td>0.0</td>\n",
              "      <td>0.0</td>\n",
              "      <td>0.0</td>\n",
              "      <td>0.0</td>\n",
              "      <td>1</td>\n",
              "    </tr>\n",
              "    <tr>\n",
              "      <th>4</th>\n",
              "      <td>33012</td>\n",
              "      <td>12513</td>\n",
              "      <td>DX6</td>\n",
              "      <td>Cannot say</td>\n",
              "      <td>RURAL</td>\n",
              "      <td>Stable</td>\n",
              "      <td>0.0</td>\n",
              "      <td>0.0</td>\n",
              "      <td>0.0</td>\n",
              "      <td>0.0</td>\n",
              "      <td>0.0</td>\n",
              "      <td>0.0</td>\n",
              "      <td>1.0</td>\n",
              "      <td>1</td>\n",
              "    </tr>\n",
              "  </tbody>\n",
              "</table>\n",
              "</div>"
            ],
            "text/plain": [
              "   ID_Patient_Care_Situation  Patient_ID  ...    Z Survived_1_year\n",
              "0                      22374        3333  ...  0.0               0\n",
              "1                      18164        5740  ...  0.0               1\n",
              "2                       6283       10446  ...  0.0               0\n",
              "3                       5339       12011  ...  0.0               1\n",
              "4                      33012       12513  ...  1.0               1\n",
              "\n",
              "[5 rows x 14 columns]"
            ]
          },
          "metadata": {
            "tags": []
          },
          "execution_count": 569
        }
      ]
    },
    {
      "cell_type": "markdown",
      "metadata": {
        "id": "obw44leXfLsw"
      },
      "source": [
        "I can drop IDs because it is not categorical variable."
      ]
    },
    {
      "cell_type": "code",
      "metadata": {
        "id": "gg8O9HMRfR3Y"
      },
      "source": [
        "cat_feat = cat_feat.drop(['ID_Patient_Care_Situation', 'Patient_ID'],axis=1)"
      ],
      "execution_count": null,
      "outputs": []
    },
    {
      "cell_type": "markdown",
      "metadata": {
        "id": "0vCC13H4eMEN"
      },
      "source": [
        "Let's see if ID is created randomly or not. If it has different ids for different attributes then I'll drop that else will have to handle it."
      ]
    },
    {
      "cell_type": "code",
      "metadata": {
        "colab": {
          "base_uri": "https://localhost:8080/"
        },
        "id": "MstUdKRsef0u",
        "outputId": "0adb431c-174d-4772-b89e-ed85d3850283"
      },
      "source": [
        "data.nunique()"
      ],
      "execution_count": null,
      "outputs": [
        {
          "output_type": "execute_result",
          "data": {
            "text/plain": [
              "ID_Patient_Care_Situation    23097\n",
              "Diagnosed_Condition             53\n",
              "Patient_ID                   10570\n",
              "Treated_with_drugs              32\n",
              "Patient_Age                     78\n",
              "Patient_Body_Mass_Index      10570\n",
              "Patient_Smoker                   3\n",
              "Patient_Rural_Urban              2\n",
              "Patient_mental_condition         1\n",
              "A                                2\n",
              "B                                2\n",
              "C                                2\n",
              "D                                2\n",
              "E                                2\n",
              "F                                2\n",
              "Z                                2\n",
              "Number_of_prev_cond              5\n",
              "Survived_1_year                  2\n",
              "dtype: int64"
            ]
          },
          "metadata": {
            "tags": []
          },
          "execution_count": 571
        }
      ]
    },
    {
      "cell_type": "code",
      "metadata": {
        "colab": {
          "base_uri": "https://localhost:8080/"
        },
        "id": "nG1Y9B7kf8r9",
        "outputId": "0d0a75de-b551-4a83-c17a-3935c6583688"
      },
      "source": [
        "cat_feat.nunique()"
      ],
      "execution_count": null,
      "outputs": [
        {
          "output_type": "execute_result",
          "data": {
            "text/plain": [
              "Treated_with_drugs          32\n",
              "Patient_Smoker               3\n",
              "Patient_Rural_Urban          2\n",
              "Patient_mental_condition     1\n",
              "A                            2\n",
              "B                            2\n",
              "C                            2\n",
              "D                            2\n",
              "E                            2\n",
              "F                            2\n",
              "Z                            2\n",
              "Survived_1_year              2\n",
              "dtype: int64"
            ]
          },
          "metadata": {
            "tags": []
          },
          "execution_count": 572
        }
      ]
    },
    {
      "cell_type": "markdown",
      "metadata": {
        "id": "oyztjZZ-fHAK"
      },
      "source": [
        "So ‘Treated_with_drugs’ column has 32 unique values while ‘Patient_Smoker’ has only 3 categorical values. ‘Patient_mental_condition’ column has only 1 categorical value."
      ]
    },
    {
      "cell_type": "markdown",
      "metadata": {
        "id": "77NgzgNogHrj"
      },
      "source": [
        "Visualization of categorical columns"
      ]
    },
    {
      "cell_type": "code",
      "metadata": {
        "colab": {
          "base_uri": "https://localhost:8080/",
          "height": 806
        },
        "id": "VQK7c7sXe8ee",
        "outputId": "895dade2-6e2c-44b3-e3f2-f3416fa97288"
      },
      "source": [
        "for feature in ['Patient_Smoker', 'Patient_Rural_Urban', 'Patient_mental_condition']:\n",
        "  sns.countplot(x=feature,  hue='Survived_1_year', data=cat_feat)\n",
        "  plt.show()"
      ],
      "execution_count": null,
      "outputs": [
        {
          "output_type": "display_data",
          "data": {
            "image/png": "[encoded data removed]",
            "text/plain": [
              "<Figure size 432x288 with 1 Axes>"
            ]
          },
          "metadata": {
            "tags": [],
            "needs_background": "light"
          }
        },
        {
          "output_type": "display_data",
          "data": {
            "image/png": "[encoded data removed]",
            "text/plain": [
              "<Figure size 432x288 with 1 Axes>"
            ]
          },
          "metadata": {
            "tags": [],
            "needs_background": "light"
          }
        },
        {
          "output_type": "display_data",
          "data": {
            "image/png": "[encoded data removed]",
            "text/plain": [
              "<Figure size 432x288 with 1 Axes>"
            ]
          },
          "metadata": {
            "tags": [],
            "needs_background": "light"
          }
        }
      ]
    },
    {
      "cell_type": "code",
      "metadata": {
        "colab": {
          "base_uri": "https://localhost:8080/",
          "height": 335
        },
        "id": "Kijekp67gXoN",
        "outputId": "0ab153a6-225c-49a2-8fd7-f6fcbdb3b7be"
      },
      "source": [
        "plt.figure(figsize=(15,5))\n",
        "sns.countplot(x='Treated_with_drugs',  hue='Survived_1_year', data=cat_feat)\n",
        "plt.show()"
      ],
      "execution_count": null,
      "outputs": [
        {
          "output_type": "display_data",
          "data": {
            "image/png": "[encoded data removed]",
            "text/plain": [
              "<Figure size 1080x360 with 1 Axes>"
            ]
          },
          "metadata": {
            "tags": [],
            "needs_background": "light"
          }
        }
      ]
    },
    {
      "cell_type": "markdown",
      "metadata": {
        "id": "40MfFKryijGz"
      },
      "source": [
        "Pre-Processing and Data Cleaning of Categorical Variables"
      ]
    },
    {
      "cell_type": "code",
      "metadata": {
        "colab": {
          "base_uri": "https://localhost:8080/",
          "height": 202
        },
        "id": "tBkQJDZBh-nV",
        "outputId": "90b18898-06d5-4822-c2c6-de60c0c30cf9"
      },
      "source": [
        "drugs = data['Treated_with_drugs'].str.get_dummies(sep=' ') # split all the entries separated by space and create dummy variable\n",
        "drugs.head()"
      ],
      "execution_count": null,
      "outputs": [
        {
          "output_type": "execute_result",
          "data": {
            "text/html": [
              "<div>\n",
              "<style scoped>\n",
              "    .dataframe tbody tr th:only-of-type {\n",
              "        vertical-align: middle;\n",
              "    }\n",
              "\n",
              "    .dataframe tbody tr th {\n",
              "        vertical-align: top;\n",
              "    }\n",
              "\n",
              "    .dataframe thead th {\n",
              "        text-align: right;\n",
              "    }\n",
              "</style>\n",
              "<table border=\"1\" class=\"dataframe\">\n",
              "  <thead>\n",
              "    <tr style=\"text-align: right;\">\n",
              "      <th></th>\n",
              "      <th>DX1</th>\n",
              "      <th>DX2</th>\n",
              "      <th>DX3</th>\n",
              "      <th>DX4</th>\n",
              "      <th>DX5</th>\n",
              "      <th>DX6</th>\n",
              "    </tr>\n",
              "  </thead>\n",
              "  <tbody>\n",
              "    <tr>\n",
              "      <th>0</th>\n",
              "      <td>0</td>\n",
              "      <td>0</td>\n",
              "      <td>0</td>\n",
              "      <td>0</td>\n",
              "      <td>0</td>\n",
              "      <td>1</td>\n",
              "    </tr>\n",
              "    <tr>\n",
              "      <th>1</th>\n",
              "      <td>0</td>\n",
              "      <td>1</td>\n",
              "      <td>0</td>\n",
              "      <td>0</td>\n",
              "      <td>0</td>\n",
              "      <td>0</td>\n",
              "    </tr>\n",
              "    <tr>\n",
              "      <th>2</th>\n",
              "      <td>0</td>\n",
              "      <td>0</td>\n",
              "      <td>0</td>\n",
              "      <td>0</td>\n",
              "      <td>0</td>\n",
              "      <td>1</td>\n",
              "    </tr>\n",
              "    <tr>\n",
              "      <th>3</th>\n",
              "      <td>1</td>\n",
              "      <td>0</td>\n",
              "      <td>0</td>\n",
              "      <td>0</td>\n",
              "      <td>0</td>\n",
              "      <td>0</td>\n",
              "    </tr>\n",
              "    <tr>\n",
              "      <th>4</th>\n",
              "      <td>0</td>\n",
              "      <td>0</td>\n",
              "      <td>0</td>\n",
              "      <td>0</td>\n",
              "      <td>0</td>\n",
              "      <td>1</td>\n",
              "    </tr>\n",
              "  </tbody>\n",
              "</table>\n",
              "</div>"
            ],
            "text/plain": [
              "   DX1  DX2  DX3  DX4  DX5  DX6\n",
              "0    0    0    0    0    0    1\n",
              "1    0    1    0    0    0    0\n",
              "2    0    0    0    0    0    1\n",
              "3    1    0    0    0    0    0\n",
              "4    0    0    0    0    0    1"
            ]
          },
          "metadata": {
            "tags": []
          },
          "execution_count": 575
        }
      ]
    },
    {
      "cell_type": "code",
      "metadata": {
        "colab": {
          "base_uri": "https://localhost:8080/",
          "height": 222
        },
        "id": "FK5Delmni-SI",
        "outputId": "b8b7b989-5077-4a0b-ad5c-b237931f6b1b"
      },
      "source": [
        "data = pd.concat([data, drugs], axis=1)     # concat the two dataframes 'drugs' and 'data'\n",
        "data = data.drop('Treated_with_drugs', axis=1)    # dropping the column 'Treated_with_drugs' as its values are now splitted into different columns\n",
        "\n",
        "data.head()"
      ],
      "execution_count": null,
      "outputs": [
        {
          "output_type": "execute_result",
          "data": {
            "text/html": [
              "<div>\n",
              "<style scoped>\n",
              "    .dataframe tbody tr th:only-of-type {\n",
              "        vertical-align: middle;\n",
              "    }\n",
              "\n",
              "    .dataframe tbody tr th {\n",
              "        vertical-align: top;\n",
              "    }\n",
              "\n",
              "    .dataframe thead th {\n",
              "        text-align: right;\n",
              "    }\n",
              "</style>\n",
              "<table border=\"1\" class=\"dataframe\">\n",
              "  <thead>\n",
              "    <tr style=\"text-align: right;\">\n",
              "      <th></th>\n",
              "      <th>ID_Patient_Care_Situation</th>\n",
              "      <th>Diagnosed_Condition</th>\n",
              "      <th>Patient_ID</th>\n",
              "      <th>Patient_Age</th>\n",
              "      <th>Patient_Body_Mass_Index</th>\n",
              "      <th>Patient_Smoker</th>\n",
              "      <th>Patient_Rural_Urban</th>\n",
              "      <th>Patient_mental_condition</th>\n",
              "      <th>A</th>\n",
              "      <th>B</th>\n",
              "      <th>C</th>\n",
              "      <th>D</th>\n",
              "      <th>E</th>\n",
              "      <th>F</th>\n",
              "      <th>Z</th>\n",
              "      <th>Number_of_prev_cond</th>\n",
              "      <th>Survived_1_year</th>\n",
              "      <th>DX1</th>\n",
              "      <th>DX2</th>\n",
              "      <th>DX3</th>\n",
              "      <th>DX4</th>\n",
              "      <th>DX5</th>\n",
              "      <th>DX6</th>\n",
              "    </tr>\n",
              "  </thead>\n",
              "  <tbody>\n",
              "    <tr>\n",
              "      <th>0</th>\n",
              "      <td>22374</td>\n",
              "      <td>8</td>\n",
              "      <td>3333</td>\n",
              "      <td>56</td>\n",
              "      <td>18.479385</td>\n",
              "      <td>YES</td>\n",
              "      <td>URBAN</td>\n",
              "      <td>Stable</td>\n",
              "      <td>1.0</td>\n",
              "      <td>0.0</td>\n",
              "      <td>0.0</td>\n",
              "      <td>0.0</td>\n",
              "      <td>1.0</td>\n",
              "      <td>0.0</td>\n",
              "      <td>0.0</td>\n",
              "      <td>2.0</td>\n",
              "      <td>0</td>\n",
              "      <td>0</td>\n",
              "      <td>0</td>\n",
              "      <td>0</td>\n",
              "      <td>0</td>\n",
              "      <td>0</td>\n",
              "      <td>1</td>\n",
              "    </tr>\n",
              "    <tr>\n",
              "      <th>1</th>\n",
              "      <td>18164</td>\n",
              "      <td>5</td>\n",
              "      <td>5740</td>\n",
              "      <td>36</td>\n",
              "      <td>22.945566</td>\n",
              "      <td>YES</td>\n",
              "      <td>RURAL</td>\n",
              "      <td>Stable</td>\n",
              "      <td>1.0</td>\n",
              "      <td>0.0</td>\n",
              "      <td>0.0</td>\n",
              "      <td>0.0</td>\n",
              "      <td>0.0</td>\n",
              "      <td>0.0</td>\n",
              "      <td>0.0</td>\n",
              "      <td>1.0</td>\n",
              "      <td>1</td>\n",
              "      <td>0</td>\n",
              "      <td>1</td>\n",
              "      <td>0</td>\n",
              "      <td>0</td>\n",
              "      <td>0</td>\n",
              "      <td>0</td>\n",
              "    </tr>\n",
              "    <tr>\n",
              "      <th>2</th>\n",
              "      <td>6283</td>\n",
              "      <td>23</td>\n",
              "      <td>10446</td>\n",
              "      <td>48</td>\n",
              "      <td>27.510027</td>\n",
              "      <td>YES</td>\n",
              "      <td>RURAL</td>\n",
              "      <td>Stable</td>\n",
              "      <td>1.0</td>\n",
              "      <td>0.0</td>\n",
              "      <td>0.0</td>\n",
              "      <td>0.0</td>\n",
              "      <td>0.0</td>\n",
              "      <td>0.0</td>\n",
              "      <td>0.0</td>\n",
              "      <td>1.0</td>\n",
              "      <td>0</td>\n",
              "      <td>0</td>\n",
              "      <td>0</td>\n",
              "      <td>0</td>\n",
              "      <td>0</td>\n",
              "      <td>0</td>\n",
              "      <td>1</td>\n",
              "    </tr>\n",
              "    <tr>\n",
              "      <th>3</th>\n",
              "      <td>5339</td>\n",
              "      <td>51</td>\n",
              "      <td>12011</td>\n",
              "      <td>5</td>\n",
              "      <td>19.130976</td>\n",
              "      <td>NO</td>\n",
              "      <td>URBAN</td>\n",
              "      <td>Stable</td>\n",
              "      <td>1.0</td>\n",
              "      <td>0.0</td>\n",
              "      <td>0.0</td>\n",
              "      <td>0.0</td>\n",
              "      <td>0.0</td>\n",
              "      <td>0.0</td>\n",
              "      <td>0.0</td>\n",
              "      <td>1.0</td>\n",
              "      <td>1</td>\n",
              "      <td>1</td>\n",
              "      <td>0</td>\n",
              "      <td>0</td>\n",
              "      <td>0</td>\n",
              "      <td>0</td>\n",
              "      <td>0</td>\n",
              "    </tr>\n",
              "    <tr>\n",
              "      <th>4</th>\n",
              "      <td>33012</td>\n",
              "      <td>0</td>\n",
              "      <td>12513</td>\n",
              "      <td>128</td>\n",
              "      <td>1.348400</td>\n",
              "      <td>Cannot say</td>\n",
              "      <td>RURAL</td>\n",
              "      <td>Stable</td>\n",
              "      <td>0.0</td>\n",
              "      <td>0.0</td>\n",
              "      <td>0.0</td>\n",
              "      <td>0.0</td>\n",
              "      <td>0.0</td>\n",
              "      <td>0.0</td>\n",
              "      <td>1.0</td>\n",
              "      <td>1.0</td>\n",
              "      <td>1</td>\n",
              "      <td>0</td>\n",
              "      <td>0</td>\n",
              "      <td>0</td>\n",
              "      <td>0</td>\n",
              "      <td>0</td>\n",
              "      <td>1</td>\n",
              "    </tr>\n",
              "  </tbody>\n",
              "</table>\n",
              "</div>"
            ],
            "text/plain": [
              "   ID_Patient_Care_Situation  Diagnosed_Condition  Patient_ID  ...  DX4  DX5 DX6\n",
              "0                      22374                    8        3333  ...    0    0   1\n",
              "1                      18164                    5        5740  ...    0    0   0\n",
              "2                       6283                   23       10446  ...    0    0   1\n",
              "3                       5339                   51       12011  ...    0    0   0\n",
              "4                      33012                    0       12513  ...    0    0   1\n",
              "\n",
              "[5 rows x 23 columns]"
            ]
          },
          "metadata": {
            "tags": []
          },
          "execution_count": 576
        }
      ]
    },
    {
      "cell_type": "markdown",
      "metadata": {
        "id": "W6Zi-2eLjnAc"
      },
      "source": [
        "‘Patient_Smoker’ is also a categorical column and we need to create dummies for this too. If you observe the data, the column ‘Patient_Smoker’ has a category ‘Cannot say’."
      ]
    },
    {
      "cell_type": "code",
      "metadata": {
        "colab": {
          "base_uri": "https://localhost:8080/"
        },
        "id": "X5-GimYAjcNm",
        "outputId": "d2acdb47-8665-45b3-9f24-413a8976c8a5"
      },
      "source": [
        "data.Patient_Smoker.value_counts()"
      ],
      "execution_count": null,
      "outputs": [
        {
          "output_type": "execute_result",
          "data": {
            "text/plain": [
              "NO            13246\n",
              "YES            9838\n",
              "Cannot say       13\n",
              "Name: Patient_Smoker, dtype: int64"
            ]
          },
          "metadata": {
            "tags": []
          },
          "execution_count": 577
        }
      ]
    },
    {
      "cell_type": "markdown",
      "metadata": {
        "id": "Lav14l8Pj2wu"
      },
      "source": [
        "There can be different ways to deal with the category ‘Cannot say’. Here we will consider it as missing value and fill those entries with the mode value of the column. Here, mode of the table is 'No'. "
      ]
    },
    {
      "cell_type": "code",
      "metadata": {
        "colab": {
          "base_uri": "https://localhost:8080/"
        },
        "id": "lHEmHqM8jxc-",
        "outputId": "dec6011b-f938-41aa-9ffa-0e1830b18578"
      },
      "source": [
        "data.Patient_Smoker[data['Patient_Smoker']=='Cannot say'] = 'NO'"
      ],
      "execution_count": null,
      "outputs": [
        {
          "output_type": "stream",
          "text": [
            "/usr/local/lib/python3.6/dist-packages/ipykernel_launcher.py:1: SettingWithCopyWarning: \n",
            "A value is trying to be set on a copy of a slice from a DataFrame\n",
            "\n",
            "See the caveats in the documentation: https://pandas.pydata.org/pandas-docs/stable/user_guide/indexing.html#returning-a-view-versus-a-copy\n",
            "  \"\"\"Entry point for launching an IPython kernel.\n"
          ],
          "name": "stderr"
        }
      ]
    },
    {
      "cell_type": "code",
      "metadata": {
        "colab": {
          "base_uri": "https://localhost:8080/"
        },
        "id": "KzBUXzzGkVnR",
        "outputId": "a088dbaf-5818-4d4b-e0db-ebf8aabb3581"
      },
      "source": [
        "data.Patient_Smoker.value_counts()"
      ],
      "execution_count": null,
      "outputs": [
        {
          "output_type": "execute_result",
          "data": {
            "text/plain": [
              "NO     13259\n",
              "YES     9838\n",
              "Name: Patient_Smoker, dtype: int64"
            ]
          },
          "metadata": {
            "tags": []
          },
          "execution_count": 579
        }
      ]
    },
    {
      "cell_type": "code",
      "metadata": {
        "colab": {
          "base_uri": "https://localhost:8080/"
        },
        "id": "OmfKLwyxknhq",
        "outputId": "54866bae-73a1-4369-a55f-aa5ac5c3f36c"
      },
      "source": [
        "data['Patient_mental_condition'].value_counts()"
      ],
      "execution_count": null,
      "outputs": [
        {
          "output_type": "execute_result",
          "data": {
            "text/plain": [
              "Stable    23097\n",
              "Name: Patient_mental_condition, dtype: int64"
            ]
          },
          "metadata": {
            "tags": []
          },
          "execution_count": 580
        }
      ]
    },
    {
      "cell_type": "markdown",
      "metadata": {
        "id": "NtjHUh1ulJ2g"
      },
      "source": [
        "The column ‘Patient_mental_condition’ has only one category ‘stable’. So we can drop this column as for every observation the entry here is ‘stable’. This feature won’t be useful for making the prediction of the target variable as it doesn’t provide any useful insights of the data. Hence, It is better to remove this kind of features."
      ]
    },
    {
      "cell_type": "code",
      "metadata": {
        "id": "EXmmRSp2k9Zt"
      },
      "source": [
        "data.drop('Patient_mental_condition', axis = 1, inplace=True)"
      ],
      "execution_count": null,
      "outputs": []
    },
    {
      "cell_type": "markdown",
      "metadata": {
        "id": "iLkGeJ7OlS7t"
      },
      "source": [
        "Now let’s convert the remaining categorical column to numerical using get_dummies() function of pandas (i.e. one hot encoding)."
      ]
    },
    {
      "cell_type": "code",
      "metadata": {
        "colab": {
          "base_uri": "https://localhost:8080/",
          "height": 222
        },
        "id": "43ww3XQNlNnE",
        "outputId": "8624c17d-8b66-42a9-ca0f-5a7492cf4eed"
      },
      "source": [
        "data = pd.get_dummies(data, columns=['Patient_Smoker', 'Patient_Rural_Urban'])\n",
        "data.head()"
      ],
      "execution_count": null,
      "outputs": [
        {
          "output_type": "execute_result",
          "data": {
            "text/html": [
              "<div>\n",
              "<style scoped>\n",
              "    .dataframe tbody tr th:only-of-type {\n",
              "        vertical-align: middle;\n",
              "    }\n",
              "\n",
              "    .dataframe tbody tr th {\n",
              "        vertical-align: top;\n",
              "    }\n",
              "\n",
              "    .dataframe thead th {\n",
              "        text-align: right;\n",
              "    }\n",
              "</style>\n",
              "<table border=\"1\" class=\"dataframe\">\n",
              "  <thead>\n",
              "    <tr style=\"text-align: right;\">\n",
              "      <th></th>\n",
              "      <th>ID_Patient_Care_Situation</th>\n",
              "      <th>Diagnosed_Condition</th>\n",
              "      <th>Patient_ID</th>\n",
              "      <th>Patient_Age</th>\n",
              "      <th>Patient_Body_Mass_Index</th>\n",
              "      <th>A</th>\n",
              "      <th>B</th>\n",
              "      <th>C</th>\n",
              "      <th>D</th>\n",
              "      <th>E</th>\n",
              "      <th>F</th>\n",
              "      <th>Z</th>\n",
              "      <th>Number_of_prev_cond</th>\n",
              "      <th>Survived_1_year</th>\n",
              "      <th>DX1</th>\n",
              "      <th>DX2</th>\n",
              "      <th>DX3</th>\n",
              "      <th>DX4</th>\n",
              "      <th>DX5</th>\n",
              "      <th>DX6</th>\n",
              "      <th>Patient_Smoker_NO</th>\n",
              "      <th>Patient_Smoker_YES</th>\n",
              "      <th>Patient_Rural_Urban_RURAL</th>\n",
              "      <th>Patient_Rural_Urban_URBAN</th>\n",
              "    </tr>\n",
              "  </thead>\n",
              "  <tbody>\n",
              "    <tr>\n",
              "      <th>0</th>\n",
              "      <td>22374</td>\n",
              "      <td>8</td>\n",
              "      <td>3333</td>\n",
              "      <td>56</td>\n",
              "      <td>18.479385</td>\n",
              "      <td>1.0</td>\n",
              "      <td>0.0</td>\n",
              "      <td>0.0</td>\n",
              "      <td>0.0</td>\n",
              "      <td>1.0</td>\n",
              "      <td>0.0</td>\n",
              "      <td>0.0</td>\n",
              "      <td>2.0</td>\n",
              "      <td>0</td>\n",
              "      <td>0</td>\n",
              "      <td>0</td>\n",
              "      <td>0</td>\n",
              "      <td>0</td>\n",
              "      <td>0</td>\n",
              "      <td>1</td>\n",
              "      <td>0</td>\n",
              "      <td>1</td>\n",
              "      <td>0</td>\n",
              "      <td>1</td>\n",
              "    </tr>\n",
              "    <tr>\n",
              "      <th>1</th>\n",
              "      <td>18164</td>\n",
              "      <td>5</td>\n",
              "      <td>5740</td>\n",
              "      <td>36</td>\n",
              "      <td>22.945566</td>\n",
              "      <td>1.0</td>\n",
              "      <td>0.0</td>\n",
              "      <td>0.0</td>\n",
              "      <td>0.0</td>\n",
              "      <td>0.0</td>\n",
              "      <td>0.0</td>\n",
              "      <td>0.0</td>\n",
              "      <td>1.0</td>\n",
              "      <td>1</td>\n",
              "      <td>0</td>\n",
              "      <td>1</td>\n",
              "      <td>0</td>\n",
              "      <td>0</td>\n",
              "      <td>0</td>\n",
              "      <td>0</td>\n",
              "      <td>0</td>\n",
              "      <td>1</td>\n",
              "      <td>1</td>\n",
              "      <td>0</td>\n",
              "    </tr>\n",
              "    <tr>\n",
              "      <th>2</th>\n",
              "      <td>6283</td>\n",
              "      <td>23</td>\n",
              "      <td>10446</td>\n",
              "      <td>48</td>\n",
              "      <td>27.510027</td>\n",
              "      <td>1.0</td>\n",
              "      <td>0.0</td>\n",
              "      <td>0.0</td>\n",
              "      <td>0.0</td>\n",
              "      <td>0.0</td>\n",
              "      <td>0.0</td>\n",
              "      <td>0.0</td>\n",
              "      <td>1.0</td>\n",
              "      <td>0</td>\n",
              "      <td>0</td>\n",
              "      <td>0</td>\n",
              "      <td>0</td>\n",
              "      <td>0</td>\n",
              "      <td>0</td>\n",
              "      <td>1</td>\n",
              "      <td>0</td>\n",
              "      <td>1</td>\n",
              "      <td>1</td>\n",
              "      <td>0</td>\n",
              "    </tr>\n",
              "    <tr>\n",
              "      <th>3</th>\n",
              "      <td>5339</td>\n",
              "      <td>51</td>\n",
              "      <td>12011</td>\n",
              "      <td>5</td>\n",
              "      <td>19.130976</td>\n",
              "      <td>1.0</td>\n",
              "      <td>0.0</td>\n",
              "      <td>0.0</td>\n",
              "      <td>0.0</td>\n",
              "      <td>0.0</td>\n",
              "      <td>0.0</td>\n",
              "      <td>0.0</td>\n",
              "      <td>1.0</td>\n",
              "      <td>1</td>\n",
              "      <td>1</td>\n",
              "      <td>0</td>\n",
              "      <td>0</td>\n",
              "      <td>0</td>\n",
              "      <td>0</td>\n",
              "      <td>0</td>\n",
              "      <td>1</td>\n",
              "      <td>0</td>\n",
              "      <td>0</td>\n",
              "      <td>1</td>\n",
              "    </tr>\n",
              "    <tr>\n",
              "      <th>4</th>\n",
              "      <td>33012</td>\n",
              "      <td>0</td>\n",
              "      <td>12513</td>\n",
              "      <td>128</td>\n",
              "      <td>1.348400</td>\n",
              "      <td>0.0</td>\n",
              "      <td>0.0</td>\n",
              "      <td>0.0</td>\n",
              "      <td>0.0</td>\n",
              "      <td>0.0</td>\n",
              "      <td>0.0</td>\n",
              "      <td>1.0</td>\n",
              "      <td>1.0</td>\n",
              "      <td>1</td>\n",
              "      <td>0</td>\n",
              "      <td>0</td>\n",
              "      <td>0</td>\n",
              "      <td>0</td>\n",
              "      <td>0</td>\n",
              "      <td>1</td>\n",
              "      <td>1</td>\n",
              "      <td>0</td>\n",
              "      <td>1</td>\n",
              "      <td>0</td>\n",
              "    </tr>\n",
              "  </tbody>\n",
              "</table>\n",
              "</div>"
            ],
            "text/plain": [
              "   ID_Patient_Care_Situation  ...  Patient_Rural_Urban_URBAN\n",
              "0                      22374  ...                          1\n",
              "1                      18164  ...                          0\n",
              "2                       6283  ...                          0\n",
              "3                       5339  ...                          1\n",
              "4                      33012  ...                          0\n",
              "\n",
              "[5 rows x 24 columns]"
            ]
          },
          "metadata": {
            "tags": []
          },
          "execution_count": 582
        }
      ]
    },
    {
      "cell_type": "code",
      "metadata": {
        "colab": {
          "base_uri": "https://localhost:8080/"
        },
        "id": "X1BwAQEllVpi",
        "outputId": "a348c91b-fa6a-46c6-f1fd-a327d7951de2"
      },
      "source": [
        "data.info()"
      ],
      "execution_count": null,
      "outputs": [
        {
          "output_type": "stream",
          "text": [
            "<class 'pandas.core.frame.DataFrame'>\n",
            "RangeIndex: 23097 entries, 0 to 23096\n",
            "Data columns (total 24 columns):\n",
            " #   Column                     Non-Null Count  Dtype  \n",
            "---  ------                     --------------  -----  \n",
            " 0   ID_Patient_Care_Situation  23097 non-null  int64  \n",
            " 1   Diagnosed_Condition        23097 non-null  int64  \n",
            " 2   Patient_ID                 23097 non-null  int64  \n",
            " 3   Patient_Age                23097 non-null  int64  \n",
            " 4   Patient_Body_Mass_Index    23097 non-null  float64\n",
            " 5   A                          23097 non-null  float64\n",
            " 6   B                          23097 non-null  float64\n",
            " 7   C                          23097 non-null  float64\n",
            " 8   D                          23097 non-null  float64\n",
            " 9   E                          23097 non-null  float64\n",
            " 10  F                          23097 non-null  float64\n",
            " 11  Z                          23097 non-null  float64\n",
            " 12  Number_of_prev_cond        23097 non-null  float64\n",
            " 13  Survived_1_year            23097 non-null  int64  \n",
            " 14  DX1                        23097 non-null  int64  \n",
            " 15  DX2                        23097 non-null  int64  \n",
            " 16  DX3                        23097 non-null  int64  \n",
            " 17  DX4                        23097 non-null  int64  \n",
            " 18  DX5                        23097 non-null  int64  \n",
            " 19  DX6                        23097 non-null  int64  \n",
            " 20  Patient_Smoker_NO          23097 non-null  uint8  \n",
            " 21  Patient_Smoker_YES         23097 non-null  uint8  \n",
            " 22  Patient_Rural_Urban_RURAL  23097 non-null  uint8  \n",
            " 23  Patient_Rural_Urban_URBAN  23097 non-null  uint8  \n",
            "dtypes: float64(9), int64(11), uint8(4)\n",
            "memory usage: 3.6 MB\n"
          ],
          "name": "stdout"
        }
      ]
    },
    {
      "cell_type": "code",
      "metadata": {
        "colab": {
          "base_uri": "https://localhost:8080/"
        },
        "id": "xWiT4qOJlo8E",
        "outputId": "d9086cd4-7ae0-477c-c4b4-584b35107472"
      },
      "source": [
        "print(data.ID_Patient_Care_Situation.nunique())     # nunique() gives you the count of unique values in the column\n",
        "print(data.Patient_ID.nunique())"
      ],
      "execution_count": null,
      "outputs": [
        {
          "output_type": "stream",
          "text": [
            "23097\n",
            "10570\n"
          ],
          "name": "stdout"
        }
      ]
    },
    {
      "cell_type": "markdown",
      "metadata": {
        "id": "DaLZz1WfmNKB"
      },
      "source": [
        "We can see there are 23097 unique ‘ID_Patient_Care_Situation’ and there are 23097 total observations in the dataset. So this column can be dropped.\n",
        "\n",
        "Now, there are only 10570 unique values in the column ‘Patient_ID’. This means there are some patient who came two or more times in the hospital because it is possible the same person was sick for two or more than two times (with different illness) and visited hospital for the treatment. And the same patient will have different caring condition for different diseases.\n",
        "\n",
        "So there are some useful information in the column - ‘Patient_ID’ and thus we will not drop this column."
      ]
    },
    {
      "cell_type": "code",
      "metadata": {
        "id": "CQj8MYEzmQBC"
      },
      "source": [
        "data.drop(['ID_Patient_Care_Situation'], axis =1, inplace=True)"
      ],
      "execution_count": null,
      "outputs": []
    },
    {
      "cell_type": "markdown",
      "metadata": {
        "id": "w6SGBbWOmbfP"
      },
      "source": [
        "Prepare Train/Test Data"
      ]
    },
    {
      "cell_type": "code",
      "metadata": {
        "id": "9ctRy8NmmXCi"
      },
      "source": [
        "X = data.drop('Survived_1_year',axis=1)\n",
        "y = data['Survived_1_year']"
      ],
      "execution_count": null,
      "outputs": []
    },
    {
      "cell_type": "code",
      "metadata": {
        "id": "3B01kQ8fmnj6"
      },
      "source": [
        "import sklearn as sk\n",
        "from sklearn.model_selection import train_test_split\n",
        "\n",
        "X_train, X_test, y_train, y_test = train_test_split(X, y, test_size=0.2, random_state=1)"
      ],
      "execution_count": null,
      "outputs": []
    },
    {
      "cell_type": "markdown",
      "metadata": {
        "id": "QyDCD6DEnL67"
      },
      "source": [
        "Model Building"
      ]
    },
    {
      "cell_type": "code",
      "metadata": {
        "id": "OZPgOLunm3yC"
      },
      "source": [
        "from sklearn import tree\n",
        "from sklearn.metrics import confusion_matrix"
      ],
      "execution_count": null,
      "outputs": []
    },
    {
      "cell_type": "code",
      "metadata": {
        "colab": {
          "base_uri": "https://localhost:8080/"
        },
        "id": "1x86jpfqtfHY",
        "outputId": "f621aa3e-a553-480f-aa0d-6b25eedf827f"
      },
      "source": [
        "mdl1 = tree.DecisionTreeClassifier(max_depth = 5)\n",
        "mdl1.fit(X_train,y_train)"
      ],
      "execution_count": null,
      "outputs": [
        {
          "output_type": "execute_result",
          "data": {
            "text/plain": [
              "DecisionTreeClassifier(ccp_alpha=0.0, class_weight=None, criterion='gini',\n",
              "                       max_depth=5, max_features=None, max_leaf_nodes=None,\n",
              "                       min_impurity_decrease=0.0, min_impurity_split=None,\n",
              "                       min_samples_leaf=1, min_samples_split=2,\n",
              "                       min_weight_fraction_leaf=0.0, presort='deprecated',\n",
              "                       random_state=None, splitter='best')"
            ]
          },
          "metadata": {
            "tags": []
          },
          "execution_count": 589
        }
      ]
    },
    {
      "cell_type": "code",
      "metadata": {
        "colab": {
          "base_uri": "https://localhost:8080/"
        },
        "id": "vi_y5WH2tsXZ",
        "outputId": "0b28b54a-99b4-44cd-b4bb-c647f0a863c0"
      },
      "source": [
        "pred1 = mdl1.predict(X_train)\n",
        "pred1_test = mdl1.predict(X_test)\n",
        "\n",
        "#train\n",
        "cfm1 = confusion_matrix(y_train,pred1)\n",
        "t1 = sum(sum(cfm1))\n",
        "acc1 = (cfm1[0,0]+cfm1[1,1])/t1 \n",
        "print(\"Accuracy of train set\",acc1)\n",
        "\n",
        "#test\n",
        "cfm2 = confusion_matrix(y_test,pred1_test)\n",
        "t2 = sum(sum(cfm2))\n",
        "acc2 = (cfm2[0,0]+cfm2[1,1])/t2\n",
        "print(\"Accuracy of train set\",acc2)"
      ],
      "execution_count": null,
      "outputs": [
        {
          "output_type": "stream",
          "text": [
            "Accuracy of train set 0.773393949234183\n",
            "Accuracy of train set 0.7651515151515151\n"
          ],
          "name": "stdout"
        }
      ]
    },
    {
      "cell_type": "markdown",
      "metadata": {
        "id": "koXz9sydzLmB"
      },
      "source": [
        "Using Random forest"
      ]
    },
    {
      "cell_type": "code",
      "metadata": {
        "colab": {
          "base_uri": "https://localhost:8080/"
        },
        "id": "0x_nDmwezOgi",
        "outputId": "16d61718-570a-473b-edc7-89073fed7745"
      },
      "source": [
        "from sklearn.ensemble import RandomForestClassifier\n",
        "forest=RandomForestClassifier(n_estimators=100, max_features=4, max_depth=6)\n",
        "# n_estimators - Trees - As high as possible\n",
        "# max_features - p - low ==>(sqrt(t))\n",
        "# max_depth - Slightly higher than single tree\n",
        "forest.fit(X_train,y_train)"
      ],
      "execution_count": null,
      "outputs": [
        {
          "output_type": "execute_result",
          "data": {
            "text/plain": [
              "RandomForestClassifier(bootstrap=True, ccp_alpha=0.0, class_weight=None,\n",
              "                       criterion='gini', max_depth=6, max_features=4,\n",
              "                       max_leaf_nodes=None, max_samples=None,\n",
              "                       min_impurity_decrease=0.0, min_impurity_split=None,\n",
              "                       min_samples_leaf=1, min_samples_split=2,\n",
              "                       min_weight_fraction_leaf=0.0, n_estimators=100,\n",
              "                       n_jobs=None, oob_score=False, random_state=None,\n",
              "                       verbose=0, warm_start=False)"
            ]
          },
          "metadata": {
            "tags": []
          },
          "execution_count": 591
        }
      ]
    },
    {
      "cell_type": "code",
      "metadata": {
        "colab": {
          "base_uri": "https://localhost:8080/"
        },
        "id": "Ng0VwX67zeD2",
        "outputId": "8afac889-23e5-4b23-8bba-27a5236f5bd7"
      },
      "source": [
        "pred1 = forest.predict(X_train)\n",
        "pred1_test = forest.predict(X_test)\n",
        "\n",
        "#train\n",
        "cfm1 = confusion_matrix(y_train,pred1)\n",
        "t1 = sum(sum(cfm1))\n",
        "acc1 = (cfm1[0,0]+cfm1[1,1])/t1 \n",
        "print(\"Accuracy of train set\",acc1)\n",
        "\n",
        "#test\n",
        "cfm2 = confusion_matrix(y_test,pred1_test)\n",
        "t2 = sum(sum(cfm2))\n",
        "acc2 = (cfm2[0,0]+cfm2[1,1])/t2\n",
        "print(\"Accuracy of train set\",acc2)"
      ],
      "execution_count": null,
      "outputs": [
        {
          "output_type": "stream",
          "text": [
            "Accuracy of train set 0.7864371921848785\n",
            "Accuracy of train set 0.7751082251082251\n"
          ],
          "name": "stdout"
        }
      ]
    },
    {
      "cell_type": "markdown",
      "metadata": {
        "id": "8yYrHblIvXB_"
      },
      "source": [
        "Since, we are not getting that good accuracy let's do feature selection"
      ]
    },
    {
      "cell_type": "code",
      "metadata": {
        "id": "S3QG3HhPUPC5",
        "colab": {
          "base_uri": "https://localhost:8080/"
        },
        "outputId": "ae0475bc-90ca-496a-b6fe-a17244f5aa27"
      },
      "source": [
        "data.corr()"
      ],
      "execution_count": null,
      "outputs": [
        {
          "output_type": "error",
          "ename": "NameError",
          "evalue": "ignored",
          "traceback": [
            "\u001b[0;31m---------------------------------------------------------------------------\u001b[0m",
            "\u001b[0;31mNameError\u001b[0m                                 Traceback (most recent call last)",
            "\u001b[0;32m<ipython-input-1-c44ded798807>\u001b[0m in \u001b[0;36m<module>\u001b[0;34m()\u001b[0m\n\u001b[0;32m----> 1\u001b[0;31m \u001b[0mdata\u001b[0m\u001b[0;34m.\u001b[0m\u001b[0mcorr\u001b[0m\u001b[0;34m(\u001b[0m\u001b[0;34m)\u001b[0m\u001b[0;34m\u001b[0m\u001b[0;34m\u001b[0m\u001b[0m\n\u001b[0m",
            "\u001b[0;31mNameError\u001b[0m: name 'data' is not defined"
          ]
        }
      ]
    },
    {
      "cell_type": "code",
      "metadata": {
        "id": "JQhCGZZ7vUXx"
      },
      "source": [
        "#Applying SelectKBest class to extract top features\n",
        "from sklearn.feature_selection import SelectKBest\n",
        "from sklearn.feature_selection import chi2\n",
        "\n",
        "bestfeat = SelectKBest(score_func=chi2,k=10)\n",
        "fit = bestfeat.fit(X,y)"
      ],
      "execution_count": null,
      "outputs": []
    },
    {
      "cell_type": "code",
      "metadata": {
        "id": "UD01CA-Jw1aw"
      },
      "source": [
        "scores = pd.DataFrame(fit.scores_)\n",
        "col = pd.DataFrame(X.columns)"
      ],
      "execution_count": null,
      "outputs": []
    },
    {
      "cell_type": "code",
      "metadata": {
        "id": "Dw68BsPTxLdO"
      },
      "source": [
        "# for better visualization\n",
        "feat_scores = pd.concat([col,scores],axis=1)\n",
        "feat_scores.columns = ['Feature','Score']"
      ],
      "execution_count": null,
      "outputs": []
    },
    {
      "cell_type": "code",
      "metadata": {
        "colab": {
          "base_uri": "https://localhost:8080/",
          "height": 723
        },
        "id": "v2nWTo6QxwmP",
        "outputId": "82270c72-cfeb-4215-c426-fb523edb16cd"
      },
      "source": [
        "feat_scores"
      ],
      "execution_count": null,
      "outputs": [
        {
          "output_type": "execute_result",
          "data": {
            "text/html": [
              "<div>\n",
              "<style scoped>\n",
              "    .dataframe tbody tr th:only-of-type {\n",
              "        vertical-align: middle;\n",
              "    }\n",
              "\n",
              "    .dataframe tbody tr th {\n",
              "        vertical-align: top;\n",
              "    }\n",
              "\n",
              "    .dataframe thead th {\n",
              "        text-align: right;\n",
              "    }\n",
              "</style>\n",
              "<table border=\"1\" class=\"dataframe\">\n",
              "  <thead>\n",
              "    <tr style=\"text-align: right;\">\n",
              "      <th></th>\n",
              "      <th>Feature</th>\n",
              "      <th>Score</th>\n",
              "    </tr>\n",
              "  </thead>\n",
              "  <tbody>\n",
              "    <tr>\n",
              "      <th>0</th>\n",
              "      <td>Diagnosed_Condition</td>\n",
              "      <td>3.911777</td>\n",
              "    </tr>\n",
              "    <tr>\n",
              "      <th>1</th>\n",
              "      <td>Patient_ID</td>\n",
              "      <td>847.049092</td>\n",
              "    </tr>\n",
              "    <tr>\n",
              "      <th>2</th>\n",
              "      <td>Patient_Age</td>\n",
              "      <td>1492.526517</td>\n",
              "    </tr>\n",
              "    <tr>\n",
              "      <th>3</th>\n",
              "      <td>Patient_Body_Mass_Index</td>\n",
              "      <td>211.949748</td>\n",
              "    </tr>\n",
              "    <tr>\n",
              "      <th>4</th>\n",
              "      <td>A</td>\n",
              "      <td>4.204848</td>\n",
              "    </tr>\n",
              "    <tr>\n",
              "      <th>5</th>\n",
              "      <td>B</td>\n",
              "      <td>59.881498</td>\n",
              "    </tr>\n",
              "    <tr>\n",
              "      <th>6</th>\n",
              "      <td>C</td>\n",
              "      <td>30.026883</td>\n",
              "    </tr>\n",
              "    <tr>\n",
              "      <th>7</th>\n",
              "      <td>D</td>\n",
              "      <td>246.599166</td>\n",
              "    </tr>\n",
              "    <tr>\n",
              "      <th>8</th>\n",
              "      <td>E</td>\n",
              "      <td>1.039154</td>\n",
              "    </tr>\n",
              "    <tr>\n",
              "      <th>9</th>\n",
              "      <td>F</td>\n",
              "      <td>0.002020</td>\n",
              "    </tr>\n",
              "    <tr>\n",
              "      <th>10</th>\n",
              "      <td>Z</td>\n",
              "      <td>7.561597</td>\n",
              "    </tr>\n",
              "    <tr>\n",
              "      <th>11</th>\n",
              "      <td>Number_of_prev_cond</td>\n",
              "      <td>67.478174</td>\n",
              "    </tr>\n",
              "    <tr>\n",
              "      <th>12</th>\n",
              "      <td>DX1</td>\n",
              "      <td>318.757285</td>\n",
              "    </tr>\n",
              "    <tr>\n",
              "      <th>13</th>\n",
              "      <td>DX2</td>\n",
              "      <td>150.575842</td>\n",
              "    </tr>\n",
              "    <tr>\n",
              "      <th>14</th>\n",
              "      <td>DX3</td>\n",
              "      <td>304.877971</td>\n",
              "    </tr>\n",
              "    <tr>\n",
              "      <th>15</th>\n",
              "      <td>DX4</td>\n",
              "      <td>173.081882</td>\n",
              "    </tr>\n",
              "    <tr>\n",
              "      <th>16</th>\n",
              "      <td>DX5</td>\n",
              "      <td>679.074878</td>\n",
              "    </tr>\n",
              "    <tr>\n",
              "      <th>17</th>\n",
              "      <td>DX6</td>\n",
              "      <td>1569.208989</td>\n",
              "    </tr>\n",
              "    <tr>\n",
              "      <th>18</th>\n",
              "      <td>Patient_Smoker_NO</td>\n",
              "      <td>633.089437</td>\n",
              "    </tr>\n",
              "    <tr>\n",
              "      <th>19</th>\n",
              "      <td>Patient_Smoker_YES</td>\n",
              "      <td>853.235703</td>\n",
              "    </tr>\n",
              "    <tr>\n",
              "      <th>20</th>\n",
              "      <td>Patient_Rural_Urban_RURAL</td>\n",
              "      <td>88.544578</td>\n",
              "    </tr>\n",
              "    <tr>\n",
              "      <th>21</th>\n",
              "      <td>Patient_Rural_Urban_URBAN</td>\n",
              "      <td>205.167057</td>\n",
              "    </tr>\n",
              "  </tbody>\n",
              "</table>\n",
              "</div>"
            ],
            "text/plain": [
              "                      Feature        Score\n",
              "0         Diagnosed_Condition     3.911777\n",
              "1                  Patient_ID   847.049092\n",
              "2                 Patient_Age  1492.526517\n",
              "3     Patient_Body_Mass_Index   211.949748\n",
              "4                           A     4.204848\n",
              "5                           B    59.881498\n",
              "6                           C    30.026883\n",
              "7                           D   246.599166\n",
              "8                           E     1.039154\n",
              "9                           F     0.002020\n",
              "10                          Z     7.561597\n",
              "11        Number_of_prev_cond    67.478174\n",
              "12                        DX1   318.757285\n",
              "13                        DX2   150.575842\n",
              "14                        DX3   304.877971\n",
              "15                        DX4   173.081882\n",
              "16                        DX5   679.074878\n",
              "17                        DX6  1569.208989\n",
              "18          Patient_Smoker_NO   633.089437\n",
              "19         Patient_Smoker_YES   853.235703\n",
              "20  Patient_Rural_Urban_RURAL    88.544578\n",
              "21  Patient_Rural_Urban_URBAN   205.167057"
            ]
          },
          "metadata": {
            "tags": []
          },
          "execution_count": 596
        }
      ]
    },
    {
      "cell_type": "code",
      "metadata": {
        "colab": {
          "base_uri": "https://localhost:8080/"
        },
        "id": "laNWVXrvx0PN",
        "outputId": "3003b627-6f59-4eae-8f1c-322d3ea09d02"
      },
      "source": [
        "print(feat_scores.nlargest(22,'Score'))"
      ],
      "execution_count": null,
      "outputs": [
        {
          "output_type": "stream",
          "text": [
            "                      Feature        Score\n",
            "17                        DX6  1569.208989\n",
            "2                 Patient_Age  1492.526517\n",
            "19         Patient_Smoker_YES   853.235703\n",
            "1                  Patient_ID   847.049092\n",
            "16                        DX5   679.074878\n",
            "18          Patient_Smoker_NO   633.089437\n",
            "12                        DX1   318.757285\n",
            "14                        DX3   304.877971\n",
            "7                           D   246.599166\n",
            "3     Patient_Body_Mass_Index   211.949748\n",
            "21  Patient_Rural_Urban_URBAN   205.167057\n",
            "15                        DX4   173.081882\n",
            "13                        DX2   150.575842\n",
            "20  Patient_Rural_Urban_RURAL    88.544578\n",
            "11        Number_of_prev_cond    67.478174\n",
            "5                           B    59.881498\n",
            "6                           C    30.026883\n",
            "10                          Z     7.561597\n",
            "4                           A     4.204848\n",
            "0         Diagnosed_Condition     3.911777\n",
            "8                           E     1.039154\n",
            "9                           F     0.002020\n"
          ],
          "name": "stdout"
        }
      ]
    },
    {
      "cell_type": "code",
      "metadata": {
        "id": "IMCL0rYUyOuD"
      },
      "source": [
        "data1 = data.drop(['E','F'],axis=1)"
      ],
      "execution_count": null,
      "outputs": []
    },
    {
      "cell_type": "code",
      "metadata": {
        "id": "NQc2VU9J08NJ"
      },
      "source": [
        "X = data1.drop('Survived_1_year',axis=1)\n",
        "y = data['Survived_1_year']\n",
        "import sklearn as sk\n",
        "from sklearn.model_selection import train_test_split\n",
        "\n",
        "X_train, X_test, y_train, y_test = train_test_split(X, y, test_size=0.2, random_state=1)"
      ],
      "execution_count": null,
      "outputs": []
    },
    {
      "cell_type": "code",
      "metadata": {
        "colab": {
          "base_uri": "https://localhost:8080/"
        },
        "id": "OIhZhLQI0Crj",
        "outputId": "13f262ab-c6d4-40fe-88cc-815220f36516"
      },
      "source": [
        "from sklearn.ensemble import RandomForestClassifier\n",
        "forest=RandomForestClassifier(n_estimators=100, max_features=5, max_depth=7)\n",
        "# n_estimators - Trees - As high as possible\n",
        "# max_features - p - low ==>(sqrt(t))\n",
        "# max_depth - Slightly higher than single tree\n",
        "forest.fit(X_train,y_train)"
      ],
      "execution_count": null,
      "outputs": [
        {
          "output_type": "execute_result",
          "data": {
            "text/plain": [
              "RandomForestClassifier(bootstrap=True, ccp_alpha=0.0, class_weight=None,\n",
              "                       criterion='gini', max_depth=7, max_features=5,\n",
              "                       max_leaf_nodes=None, max_samples=None,\n",
              "                       min_impurity_decrease=0.0, min_impurity_split=None,\n",
              "                       min_samples_leaf=1, min_samples_split=2,\n",
              "                       min_weight_fraction_leaf=0.0, n_estimators=100,\n",
              "                       n_jobs=None, oob_score=False, random_state=None,\n",
              "                       verbose=0, warm_start=False)"
            ]
          },
          "metadata": {
            "tags": []
          },
          "execution_count": 602
        }
      ]
    },
    {
      "cell_type": "code",
      "metadata": {
        "colab": {
          "base_uri": "https://localhost:8080/"
        },
        "id": "gIHGsVlA0IfJ",
        "outputId": "11862e74-b9d9-4c52-db7b-369bb2049122"
      },
      "source": [
        "pred1 = forest.predict(X_train)\n",
        "pred1_test = forest.predict(X_test)\n",
        "\n",
        "#train\n",
        "cfm1 = confusion_matrix(y_train,pred1)\n",
        "t1 = sum(sum(cfm1))\n",
        "acc1 = (cfm1[0,0]+cfm1[1,1])/t1 \n",
        "print(\"Accuracy of train set\",acc1)\n",
        "\n",
        "#test\n",
        "cfm2 = confusion_matrix(y_test,pred1_test)\n",
        "t2 = sum(sum(cfm2))\n",
        "acc2 = (cfm2[0,0]+cfm2[1,1])/t2\n",
        "print(\"Accuracy of train set\",acc2)"
      ],
      "execution_count": null,
      "outputs": [
        {
          "output_type": "stream",
          "text": [
            "Accuracy of train set 0.7981815229745088\n",
            "Accuracy of train set 0.7805194805194805\n"
          ],
          "name": "stdout"
        }
      ]
    },
    {
      "cell_type": "code",
      "metadata": {
        "colab": {
          "base_uri": "https://localhost:8080/"
        },
        "id": "TdCbfF3y9y5I",
        "outputId": "68e8e4fe-961e-4b01-a16b-b32eed971da5"
      },
      "source": [
        "rf_imp_fscore = f1_score(y_test, pred1_test)\n",
        "print(rf_imp_fscore)"
      ],
      "execution_count": null,
      "outputs": [
        {
          "output_type": "stream",
          "text": [
            "0.8494105927278763\n"
          ],
          "name": "stdout"
        }
      ]
    },
    {
      "cell_type": "markdown",
      "metadata": {
        "id": "EcScM0Ka1T4P"
      },
      "source": [
        "Since again we are not getting that good accuracy I'll do Boruta Method"
      ]
    },
    {
      "cell_type": "code",
      "metadata": {
        "id": "4C28ZlxT0M9F"
      },
      "source": [
        "#!pip install Boruta\n"
      ],
      "execution_count": null,
      "outputs": []
    },
    {
      "cell_type": "code",
      "metadata": {
        "id": "EbK8Ezyx1hzV"
      },
      "source": [
        "from boruta import BorutaPy"
      ],
      "execution_count": null,
      "outputs": []
    },
    {
      "cell_type": "code",
      "metadata": {
        "colab": {
          "base_uri": "https://localhost:8080/"
        },
        "id": "-sKNh1u26P4k",
        "outputId": "e80c41dd-8b21-4f6d-9ad3-7a665c880f0f"
      },
      "source": [
        "data.info()"
      ],
      "execution_count": null,
      "outputs": [
        {
          "output_type": "stream",
          "text": [
            "<class 'pandas.core.frame.DataFrame'>\n",
            "RangeIndex: 23097 entries, 0 to 23096\n",
            "Data columns (total 23 columns):\n",
            " #   Column                     Non-Null Count  Dtype  \n",
            "---  ------                     --------------  -----  \n",
            " 0   Diagnosed_Condition        23097 non-null  int64  \n",
            " 1   Patient_ID                 23097 non-null  int64  \n",
            " 2   Patient_Age                23097 non-null  int64  \n",
            " 3   Patient_Body_Mass_Index    23097 non-null  float64\n",
            " 4   A                          23097 non-null  float64\n",
            " 5   B                          23097 non-null  float64\n",
            " 6   C                          23097 non-null  float64\n",
            " 7   D                          23097 non-null  float64\n",
            " 8   E                          23097 non-null  float64\n",
            " 9   F                          23097 non-null  float64\n",
            " 10  Z                          23097 non-null  float64\n",
            " 11  Number_of_prev_cond        23097 non-null  float64\n",
            " 12  Survived_1_year            23097 non-null  int64  \n",
            " 13  DX1                        23097 non-null  int64  \n",
            " 14  DX2                        23097 non-null  int64  \n",
            " 15  DX3                        23097 non-null  int64  \n",
            " 16  DX4                        23097 non-null  int64  \n",
            " 17  DX5                        23097 non-null  int64  \n",
            " 18  DX6                        23097 non-null  int64  \n",
            " 19  Patient_Smoker_NO          23097 non-null  uint8  \n",
            " 20  Patient_Smoker_YES         23097 non-null  uint8  \n",
            " 21  Patient_Rural_Urban_RURAL  23097 non-null  uint8  \n",
            " 22  Patient_Rural_Urban_URBAN  23097 non-null  uint8  \n",
            "dtypes: float64(9), int64(10), uint8(4)\n",
            "memory usage: 3.4 MB\n"
          ],
          "name": "stdout"
        }
      ]
    },
    {
      "cell_type": "code",
      "metadata": {
        "id": "5E45TxJP5XQI"
      },
      "source": [
        "X = data.drop('Survived_1_year',axis=1)\n",
        "y = data['Survived_1_year']\n",
        "import sklearn as sk\n",
        "from sklearn.model_selection import train_test_split\n",
        "\n",
        "X_train, X_test, y_train, y_test = train_test_split(X, y, test_size=0.2, random_state=1)"
      ],
      "execution_count": null,
      "outputs": []
    },
    {
      "cell_type": "code",
      "metadata": {
        "colab": {
          "base_uri": "https://localhost:8080/"
        },
        "id": "muscGUjb5dtI",
        "outputId": "200b78a2-eb1d-4e32-cb05-5384a1f58c88"
      },
      "source": [
        "from sklearn.ensemble import RandomForestClassifier\n",
        "forest=RandomForestClassifier(n_estimators=100, max_features=5, max_depth=7)\n",
        "# n_estimators - Trees - As high as possible\n",
        "# max_features - p - low ==>(sqrt(t))\n",
        "# max_depth - Slightly higher than single tree\n",
        "forest.fit(X_train,y_train)"
      ],
      "execution_count": null,
      "outputs": [
        {
          "output_type": "execute_result",
          "data": {
            "text/plain": [
              "RandomForestClassifier(bootstrap=True, ccp_alpha=0.0, class_weight=None,\n",
              "                       criterion='gini', max_depth=7, max_features=5,\n",
              "                       max_leaf_nodes=None, max_samples=None,\n",
              "                       min_impurity_decrease=0.0, min_impurity_split=None,\n",
              "                       min_samples_leaf=1, min_samples_split=2,\n",
              "                       min_weight_fraction_leaf=0.0, n_estimators=100,\n",
              "                       n_jobs=None, oob_score=False, random_state=None,\n",
              "                       verbose=0, warm_start=False)"
            ]
          },
          "metadata": {
            "tags": []
          },
          "execution_count": 608
        }
      ]
    },
    {
      "cell_type": "code",
      "metadata": {
        "colab": {
          "base_uri": "https://localhost:8080/"
        },
        "id": "hcQB8cpg3w4M",
        "outputId": "0284b96c-33e8-42fd-95f4-4966029461e5"
      },
      "source": [
        "boruta_selector = BorutaPy(forest, n_estimators='auto', verbose=2, random_state=1)   # initialize the boruta selector\n",
        "boruta_selector.fit(np.array(X_train), np.array(y_train))       # fitting the boruta selector to get all relavent features. NOTE: BorutaPy accepts numpy arrays only."
      ],
      "execution_count": null,
      "outputs": [
        {
          "output_type": "stream",
          "text": [
            "Iteration: \t1 / 100\n",
            "Confirmed: \t0\n",
            "Tentative: \t22\n",
            "Rejected: \t0\n",
            "Iteration: \t2 / 100\n",
            "Confirmed: \t0\n",
            "Tentative: \t22\n",
            "Rejected: \t0\n",
            "Iteration: \t3 / 100\n",
            "Confirmed: \t0\n",
            "Tentative: \t22\n",
            "Rejected: \t0\n",
            "Iteration: \t4 / 100\n",
            "Confirmed: \t0\n",
            "Tentative: \t22\n",
            "Rejected: \t0\n",
            "Iteration: \t5 / 100\n",
            "Confirmed: \t0\n",
            "Tentative: \t22\n",
            "Rejected: \t0\n",
            "Iteration: \t6 / 100\n",
            "Confirmed: \t0\n",
            "Tentative: \t22\n",
            "Rejected: \t0\n",
            "Iteration: \t7 / 100\n",
            "Confirmed: \t0\n",
            "Tentative: \t22\n",
            "Rejected: \t0\n",
            "Iteration: \t8 / 100\n",
            "Confirmed: \t15\n",
            "Tentative: \t2\n",
            "Rejected: \t5\n",
            "Iteration: \t9 / 100\n",
            "Confirmed: \t15\n",
            "Tentative: \t2\n",
            "Rejected: \t5\n",
            "Iteration: \t10 / 100\n",
            "Confirmed: \t15\n",
            "Tentative: \t2\n",
            "Rejected: \t5\n",
            "Iteration: \t11 / 100\n",
            "Confirmed: \t15\n",
            "Tentative: \t2\n",
            "Rejected: \t5\n",
            "Iteration: \t12 / 100\n",
            "Confirmed: \t15\n",
            "Tentative: \t2\n",
            "Rejected: \t5\n",
            "Iteration: \t13 / 100\n",
            "Confirmed: \t15\n",
            "Tentative: \t2\n",
            "Rejected: \t5\n",
            "Iteration: \t14 / 100\n",
            "Confirmed: \t15\n",
            "Tentative: \t2\n",
            "Rejected: \t5\n",
            "Iteration: \t15 / 100\n",
            "Confirmed: \t15\n",
            "Tentative: \t2\n",
            "Rejected: \t5\n",
            "Iteration: \t16 / 100\n",
            "Confirmed: \t15\n",
            "Tentative: \t2\n",
            "Rejected: \t5\n",
            "Iteration: \t17 / 100\n",
            "Confirmed: \t15\n",
            "Tentative: \t2\n",
            "Rejected: \t5\n",
            "Iteration: \t18 / 100\n",
            "Confirmed: \t15\n",
            "Tentative: \t2\n",
            "Rejected: \t5\n",
            "Iteration: \t19 / 100\n",
            "Confirmed: \t16\n",
            "Tentative: \t1\n",
            "Rejected: \t5\n",
            "Iteration: \t20 / 100\n",
            "Confirmed: \t16\n",
            "Tentative: \t1\n",
            "Rejected: \t5\n",
            "Iteration: \t21 / 100\n",
            "Confirmed: \t16\n",
            "Tentative: \t1\n",
            "Rejected: \t5\n",
            "Iteration: \t22 / 100\n",
            "Confirmed: \t16\n",
            "Tentative: \t1\n",
            "Rejected: \t5\n",
            "Iteration: \t23 / 100\n",
            "Confirmed: \t16\n",
            "Tentative: \t1\n",
            "Rejected: \t5\n",
            "Iteration: \t24 / 100\n",
            "Confirmed: \t16\n",
            "Tentative: \t1\n",
            "Rejected: \t5\n",
            "Iteration: \t25 / 100\n",
            "Confirmed: \t16\n",
            "Tentative: \t1\n",
            "Rejected: \t5\n",
            "Iteration: \t26 / 100\n",
            "Confirmed: \t16\n",
            "Tentative: \t1\n",
            "Rejected: \t5\n",
            "Iteration: \t27 / 100\n",
            "Confirmed: \t16\n",
            "Tentative: \t1\n",
            "Rejected: \t5\n",
            "Iteration: \t28 / 100\n",
            "Confirmed: \t16\n",
            "Tentative: \t1\n",
            "Rejected: \t5\n",
            "Iteration: \t29 / 100\n",
            "Confirmed: \t16\n",
            "Tentative: \t1\n",
            "Rejected: \t5\n",
            "Iteration: \t30 / 100\n",
            "Confirmed: \t16\n",
            "Tentative: \t1\n",
            "Rejected: \t5\n",
            "Iteration: \t31 / 100\n",
            "Confirmed: \t16\n",
            "Tentative: \t1\n",
            "Rejected: \t5\n",
            "Iteration: \t32 / 100\n",
            "Confirmed: \t16\n",
            "Tentative: \t1\n",
            "Rejected: \t5\n",
            "Iteration: \t33 / 100\n",
            "Confirmed: \t16\n",
            "Tentative: \t1\n",
            "Rejected: \t5\n",
            "Iteration: \t34 / 100\n",
            "Confirmed: \t16\n",
            "Tentative: \t1\n",
            "Rejected: \t5\n",
            "Iteration: \t35 / 100\n",
            "Confirmed: \t16\n",
            "Tentative: \t1\n",
            "Rejected: \t5\n",
            "Iteration: \t36 / 100\n",
            "Confirmed: \t16\n",
            "Tentative: \t1\n",
            "Rejected: \t5\n",
            "Iteration: \t37 / 100\n",
            "Confirmed: \t16\n",
            "Tentative: \t1\n",
            "Rejected: \t5\n",
            "Iteration: \t38 / 100\n",
            "Confirmed: \t16\n",
            "Tentative: \t1\n",
            "Rejected: \t5\n",
            "Iteration: \t39 / 100\n",
            "Confirmed: \t16\n",
            "Tentative: \t1\n",
            "Rejected: \t5\n",
            "Iteration: \t40 / 100\n",
            "Confirmed: \t16\n",
            "Tentative: \t1\n",
            "Rejected: \t5\n",
            "Iteration: \t41 / 100\n",
            "Confirmed: \t16\n",
            "Tentative: \t1\n",
            "Rejected: \t5\n",
            "Iteration: \t42 / 100\n",
            "Confirmed: \t16\n",
            "Tentative: \t1\n",
            "Rejected: \t5\n",
            "Iteration: \t43 / 100\n",
            "Confirmed: \t16\n",
            "Tentative: \t1\n",
            "Rejected: \t5\n",
            "Iteration: \t44 / 100\n",
            "Confirmed: \t16\n",
            "Tentative: \t1\n",
            "Rejected: \t5\n",
            "Iteration: \t45 / 100\n",
            "Confirmed: \t16\n",
            "Tentative: \t1\n",
            "Rejected: \t5\n",
            "Iteration: \t46 / 100\n",
            "Confirmed: \t16\n",
            "Tentative: \t1\n",
            "Rejected: \t5\n",
            "Iteration: \t47 / 100\n",
            "Confirmed: \t16\n",
            "Tentative: \t1\n",
            "Rejected: \t5\n",
            "Iteration: \t48 / 100\n",
            "Confirmed: \t16\n",
            "Tentative: \t1\n",
            "Rejected: \t5\n",
            "Iteration: \t49 / 100\n",
            "Confirmed: \t16\n",
            "Tentative: \t1\n",
            "Rejected: \t5\n",
            "Iteration: \t50 / 100\n",
            "Confirmed: \t16\n",
            "Tentative: \t1\n",
            "Rejected: \t5\n",
            "Iteration: \t51 / 100\n",
            "Confirmed: \t16\n",
            "Tentative: \t1\n",
            "Rejected: \t5\n",
            "Iteration: \t52 / 100\n",
            "Confirmed: \t16\n",
            "Tentative: \t1\n",
            "Rejected: \t5\n",
            "Iteration: \t53 / 100\n",
            "Confirmed: \t16\n",
            "Tentative: \t1\n",
            "Rejected: \t5\n",
            "Iteration: \t54 / 100\n",
            "Confirmed: \t16\n",
            "Tentative: \t1\n",
            "Rejected: \t5\n",
            "Iteration: \t55 / 100\n",
            "Confirmed: \t16\n",
            "Tentative: \t1\n",
            "Rejected: \t5\n",
            "Iteration: \t56 / 100\n",
            "Confirmed: \t16\n",
            "Tentative: \t1\n",
            "Rejected: \t5\n",
            "Iteration: \t57 / 100\n",
            "Confirmed: \t16\n",
            "Tentative: \t1\n",
            "Rejected: \t5\n",
            "Iteration: \t58 / 100\n",
            "Confirmed: \t16\n",
            "Tentative: \t1\n",
            "Rejected: \t5\n",
            "Iteration: \t59 / 100\n",
            "Confirmed: \t16\n",
            "Tentative: \t1\n",
            "Rejected: \t5\n",
            "Iteration: \t60 / 100\n",
            "Confirmed: \t16\n",
            "Tentative: \t1\n",
            "Rejected: \t5\n",
            "Iteration: \t61 / 100\n",
            "Confirmed: \t16\n",
            "Tentative: \t1\n",
            "Rejected: \t5\n",
            "Iteration: \t62 / 100\n",
            "Confirmed: \t16\n",
            "Tentative: \t1\n",
            "Rejected: \t5\n",
            "Iteration: \t63 / 100\n",
            "Confirmed: \t16\n",
            "Tentative: \t1\n",
            "Rejected: \t5\n",
            "Iteration: \t64 / 100\n",
            "Confirmed: \t16\n",
            "Tentative: \t1\n",
            "Rejected: \t5\n",
            "Iteration: \t65 / 100\n",
            "Confirmed: \t16\n",
            "Tentative: \t1\n",
            "Rejected: \t5\n",
            "Iteration: \t66 / 100\n",
            "Confirmed: \t16\n",
            "Tentative: \t1\n",
            "Rejected: \t5\n",
            "Iteration: \t67 / 100\n",
            "Confirmed: \t16\n",
            "Tentative: \t1\n",
            "Rejected: \t5\n",
            "Iteration: \t68 / 100\n",
            "Confirmed: \t16\n",
            "Tentative: \t1\n",
            "Rejected: \t5\n",
            "Iteration: \t69 / 100\n",
            "Confirmed: \t16\n",
            "Tentative: \t1\n",
            "Rejected: \t5\n",
            "Iteration: \t70 / 100\n",
            "Confirmed: \t16\n",
            "Tentative: \t1\n",
            "Rejected: \t5\n",
            "Iteration: \t71 / 100\n",
            "Confirmed: \t16\n",
            "Tentative: \t1\n",
            "Rejected: \t5\n",
            "Iteration: \t72 / 100\n",
            "Confirmed: \t16\n",
            "Tentative: \t1\n",
            "Rejected: \t5\n",
            "Iteration: \t73 / 100\n",
            "Confirmed: \t16\n",
            "Tentative: \t1\n",
            "Rejected: \t5\n",
            "Iteration: \t74 / 100\n",
            "Confirmed: \t16\n",
            "Tentative: \t1\n",
            "Rejected: \t5\n",
            "Iteration: \t75 / 100\n",
            "Confirmed: \t16\n",
            "Tentative: \t1\n",
            "Rejected: \t5\n",
            "Iteration: \t76 / 100\n",
            "Confirmed: \t16\n",
            "Tentative: \t1\n",
            "Rejected: \t5\n",
            "Iteration: \t77 / 100\n",
            "Confirmed: \t16\n",
            "Tentative: \t1\n",
            "Rejected: \t5\n",
            "Iteration: \t78 / 100\n",
            "Confirmed: \t16\n",
            "Tentative: \t1\n",
            "Rejected: \t5\n",
            "Iteration: \t79 / 100\n",
            "Confirmed: \t16\n",
            "Tentative: \t1\n",
            "Rejected: \t5\n",
            "Iteration: \t80 / 100\n",
            "Confirmed: \t16\n",
            "Tentative: \t1\n",
            "Rejected: \t5\n",
            "Iteration: \t81 / 100\n",
            "Confirmed: \t16\n",
            "Tentative: \t1\n",
            "Rejected: \t5\n",
            "Iteration: \t82 / 100\n",
            "Confirmed: \t16\n",
            "Tentative: \t1\n",
            "Rejected: \t5\n",
            "Iteration: \t83 / 100\n",
            "Confirmed: \t16\n",
            "Tentative: \t1\n",
            "Rejected: \t5\n",
            "Iteration: \t84 / 100\n",
            "Confirmed: \t16\n",
            "Tentative: \t1\n",
            "Rejected: \t5\n",
            "Iteration: \t85 / 100\n",
            "Confirmed: \t16\n",
            "Tentative: \t1\n",
            "Rejected: \t5\n",
            "Iteration: \t86 / 100\n",
            "Confirmed: \t16\n",
            "Tentative: \t1\n",
            "Rejected: \t5\n",
            "Iteration: \t87 / 100\n",
            "Confirmed: \t16\n",
            "Tentative: \t1\n",
            "Rejected: \t5\n",
            "Iteration: \t88 / 100\n",
            "Confirmed: \t16\n",
            "Tentative: \t1\n",
            "Rejected: \t5\n",
            "Iteration: \t89 / 100\n",
            "Confirmed: \t16\n",
            "Tentative: \t1\n",
            "Rejected: \t5\n",
            "Iteration: \t90 / 100\n",
            "Confirmed: \t16\n",
            "Tentative: \t1\n",
            "Rejected: \t5\n",
            "Iteration: \t91 / 100\n",
            "Confirmed: \t16\n",
            "Tentative: \t1\n",
            "Rejected: \t5\n",
            "Iteration: \t92 / 100\n",
            "Confirmed: \t16\n",
            "Tentative: \t1\n",
            "Rejected: \t5\n",
            "Iteration: \t93 / 100\n",
            "Confirmed: \t16\n",
            "Tentative: \t1\n",
            "Rejected: \t5\n",
            "Iteration: \t94 / 100\n",
            "Confirmed: \t16\n",
            "Tentative: \t1\n",
            "Rejected: \t5\n",
            "Iteration: \t95 / 100\n",
            "Confirmed: \t16\n",
            "Tentative: \t1\n",
            "Rejected: \t5\n",
            "Iteration: \t96 / 100\n",
            "Confirmed: \t16\n",
            "Tentative: \t1\n",
            "Rejected: \t5\n",
            "Iteration: \t97 / 100\n",
            "Confirmed: \t16\n",
            "Tentative: \t1\n",
            "Rejected: \t5\n",
            "Iteration: \t98 / 100\n",
            "Confirmed: \t16\n",
            "Tentative: \t1\n",
            "Rejected: \t5\n",
            "Iteration: \t99 / 100\n",
            "Confirmed: \t16\n",
            "Tentative: \t1\n",
            "Rejected: \t5\n",
            "\n",
            "\n",
            "BorutaPy finished running.\n",
            "\n",
            "Iteration: \t100 / 100\n",
            "Confirmed: \t16\n",
            "Tentative: \t1\n",
            "Rejected: \t5\n"
          ],
          "name": "stdout"
        },
        {
          "output_type": "execute_result",
          "data": {
            "text/plain": [
              "BorutaPy(alpha=0.05,\n",
              "         estimator=RandomForestClassifier(bootstrap=True, ccp_alpha=0.0,\n",
              "                                          class_weight=None, criterion='gini',\n",
              "                                          max_depth=7, max_features=5,\n",
              "                                          max_leaf_nodes=None, max_samples=None,\n",
              "                                          min_impurity_decrease=0.0,\n",
              "                                          min_impurity_split=None,\n",
              "                                          min_samples_leaf=1,\n",
              "                                          min_samples_split=2,\n",
              "                                          min_weight_fraction_leaf=0.0,\n",
              "                                          n_estimators=83, n_jobs=None,\n",
              "                                          oob_score=False,\n",
              "                                          random_state=RandomState(MT19937) at 0x7FB0A6DFC048,\n",
              "                                          verbose=0, warm_start=False),\n",
              "         max_iter=100, n_estimators='auto', perc=100,\n",
              "         random_state=RandomState(MT19937) at 0x7FB0A6DFC048, two_step=True,\n",
              "         verbose=2)"
            ]
          },
          "metadata": {
            "tags": []
          },
          "execution_count": 609
        }
      ]
    },
    {
      "cell_type": "code",
      "metadata": {
        "colab": {
          "base_uri": "https://localhost:8080/"
        },
        "id": "EnlrzNIu3_3Y",
        "outputId": "eeb43a4b-f7af-4373-b2d7-b2e6e0093584"
      },
      "source": [
        "print(\"Selected Features: \", boruta_selector.support_)    # check selected features\n",
        " \n",
        "\n",
        "print(\"Ranking: \",boruta_selector.ranking_)               # check ranking of features\n",
        "\n",
        "print(\"No. of significant features: \", boruta_selector.n_features_)"
      ],
      "execution_count": null,
      "outputs": [
        {
          "output_type": "stream",
          "text": [
            "Selected Features:  [ True False  True  True  True False False  True False False False  True\n",
            "  True  True  True  True  True  True  True  True  True  True]\n",
            "Ranking:  [1 2 1 1 1 3 4 1 5 6 7 1 1 1 1 1 1 1 1 1 1 1]\n",
            "No. of significant features:  16\n"
          ],
          "name": "stdout"
        }
      ]
    },
    {
      "cell_type": "code",
      "metadata": {
        "colab": {
          "base_uri": "https://localhost:8080/",
          "height": 723
        },
        "id": "ZdISWASZ4vpZ",
        "outputId": "07e7558d-3da7-4963-ddae-2f5212b0a4cc"
      },
      "source": [
        "selected_rfe_features = pd.DataFrame({'Feature':list(X_train.columns),\n",
        "                                      'Ranking':boruta_selector.ranking_})\n",
        "selected_rfe_features.sort_values(by='Ranking')"
      ],
      "execution_count": null,
      "outputs": [
        {
          "output_type": "execute_result",
          "data": {
            "text/html": [
              "<div>\n",
              "<style scoped>\n",
              "    .dataframe tbody tr th:only-of-type {\n",
              "        vertical-align: middle;\n",
              "    }\n",
              "\n",
              "    .dataframe tbody tr th {\n",
              "        vertical-align: top;\n",
              "    }\n",
              "\n",
              "    .dataframe thead th {\n",
              "        text-align: right;\n",
              "    }\n",
              "</style>\n",
              "<table border=\"1\" class=\"dataframe\">\n",
              "  <thead>\n",
              "    <tr style=\"text-align: right;\">\n",
              "      <th></th>\n",
              "      <th>Feature</th>\n",
              "      <th>Ranking</th>\n",
              "    </tr>\n",
              "  </thead>\n",
              "  <tbody>\n",
              "    <tr>\n",
              "      <th>0</th>\n",
              "      <td>Diagnosed_Condition</td>\n",
              "      <td>1</td>\n",
              "    </tr>\n",
              "    <tr>\n",
              "      <th>19</th>\n",
              "      <td>Patient_Smoker_YES</td>\n",
              "      <td>1</td>\n",
              "    </tr>\n",
              "    <tr>\n",
              "      <th>18</th>\n",
              "      <td>Patient_Smoker_NO</td>\n",
              "      <td>1</td>\n",
              "    </tr>\n",
              "    <tr>\n",
              "      <th>17</th>\n",
              "      <td>DX6</td>\n",
              "      <td>1</td>\n",
              "    </tr>\n",
              "    <tr>\n",
              "      <th>16</th>\n",
              "      <td>DX5</td>\n",
              "      <td>1</td>\n",
              "    </tr>\n",
              "    <tr>\n",
              "      <th>15</th>\n",
              "      <td>DX4</td>\n",
              "      <td>1</td>\n",
              "    </tr>\n",
              "    <tr>\n",
              "      <th>14</th>\n",
              "      <td>DX3</td>\n",
              "      <td>1</td>\n",
              "    </tr>\n",
              "    <tr>\n",
              "      <th>13</th>\n",
              "      <td>DX2</td>\n",
              "      <td>1</td>\n",
              "    </tr>\n",
              "    <tr>\n",
              "      <th>12</th>\n",
              "      <td>DX1</td>\n",
              "      <td>1</td>\n",
              "    </tr>\n",
              "    <tr>\n",
              "      <th>11</th>\n",
              "      <td>Number_of_prev_cond</td>\n",
              "      <td>1</td>\n",
              "    </tr>\n",
              "    <tr>\n",
              "      <th>21</th>\n",
              "      <td>Patient_Rural_Urban_URBAN</td>\n",
              "      <td>1</td>\n",
              "    </tr>\n",
              "    <tr>\n",
              "      <th>7</th>\n",
              "      <td>D</td>\n",
              "      <td>1</td>\n",
              "    </tr>\n",
              "    <tr>\n",
              "      <th>4</th>\n",
              "      <td>A</td>\n",
              "      <td>1</td>\n",
              "    </tr>\n",
              "    <tr>\n",
              "      <th>3</th>\n",
              "      <td>Patient_Body_Mass_Index</td>\n",
              "      <td>1</td>\n",
              "    </tr>\n",
              "    <tr>\n",
              "      <th>2</th>\n",
              "      <td>Patient_Age</td>\n",
              "      <td>1</td>\n",
              "    </tr>\n",
              "    <tr>\n",
              "      <th>20</th>\n",
              "      <td>Patient_Rural_Urban_RURAL</td>\n",
              "      <td>1</td>\n",
              "    </tr>\n",
              "    <tr>\n",
              "      <th>1</th>\n",
              "      <td>Patient_ID</td>\n",
              "      <td>2</td>\n",
              "    </tr>\n",
              "    <tr>\n",
              "      <th>5</th>\n",
              "      <td>B</td>\n",
              "      <td>3</td>\n",
              "    </tr>\n",
              "    <tr>\n",
              "      <th>6</th>\n",
              "      <td>C</td>\n",
              "      <td>4</td>\n",
              "    </tr>\n",
              "    <tr>\n",
              "      <th>8</th>\n",
              "      <td>E</td>\n",
              "      <td>5</td>\n",
              "    </tr>\n",
              "    <tr>\n",
              "      <th>9</th>\n",
              "      <td>F</td>\n",
              "      <td>6</td>\n",
              "    </tr>\n",
              "    <tr>\n",
              "      <th>10</th>\n",
              "      <td>Z</td>\n",
              "      <td>7</td>\n",
              "    </tr>\n",
              "  </tbody>\n",
              "</table>\n",
              "</div>"
            ],
            "text/plain": [
              "                      Feature  Ranking\n",
              "0         Diagnosed_Condition        1\n",
              "19         Patient_Smoker_YES        1\n",
              "18          Patient_Smoker_NO        1\n",
              "17                        DX6        1\n",
              "16                        DX5        1\n",
              "15                        DX4        1\n",
              "14                        DX3        1\n",
              "13                        DX2        1\n",
              "12                        DX1        1\n",
              "11        Number_of_prev_cond        1\n",
              "21  Patient_Rural_Urban_URBAN        1\n",
              "7                           D        1\n",
              "4                           A        1\n",
              "3     Patient_Body_Mass_Index        1\n",
              "2                 Patient_Age        1\n",
              "20  Patient_Rural_Urban_RURAL        1\n",
              "1                  Patient_ID        2\n",
              "5                           B        3\n",
              "6                           C        4\n",
              "8                           E        5\n",
              "9                           F        6\n",
              "10                          Z        7"
            ]
          },
          "metadata": {
            "tags": []
          },
          "execution_count": 611
        }
      ]
    },
    {
      "cell_type": "code",
      "metadata": {
        "id": "FxW_TWTY6ywU"
      },
      "source": [
        "X_important_train = boruta_selector.transform(np.array(X_train))\n",
        "X_important_test = boruta_selector.transform(np.array(X_test))"
      ],
      "execution_count": null,
      "outputs": []
    },
    {
      "cell_type": "code",
      "metadata": {
        "colab": {
          "base_uri": "https://localhost:8080/"
        },
        "id": "I93VKj5t64NF",
        "outputId": "4ef45e5c-8ffd-40af-8487-d79755de7bd7"
      },
      "source": [
        "forest1=RandomForestClassifier(n_estimators=1000, max_features=6, max_depth=8)\n",
        "forest1.fit(X_important_train,y_train)"
      ],
      "execution_count": null,
      "outputs": [
        {
          "output_type": "execute_result",
          "data": {
            "text/plain": [
              "RandomForestClassifier(bootstrap=True, ccp_alpha=0.0, class_weight=None,\n",
              "                       criterion='gini', max_depth=8, max_features=6,\n",
              "                       max_leaf_nodes=None, max_samples=None,\n",
              "                       min_impurity_decrease=0.0, min_impurity_split=None,\n",
              "                       min_samples_leaf=1, min_samples_split=2,\n",
              "                       min_weight_fraction_leaf=0.0, n_estimators=1000,\n",
              "                       n_jobs=None, oob_score=False, random_state=None,\n",
              "                       verbose=0, warm_start=False)"
            ]
          },
          "metadata": {
            "tags": []
          },
          "execution_count": 613
        }
      ]
    },
    {
      "cell_type": "code",
      "metadata": {
        "colab": {
          "base_uri": "https://localhost:8080/"
        },
        "id": "e53TzLSY73NX",
        "outputId": "00e05266-6b11-43fa-f9d5-70ec7ef6c6d2"
      },
      "source": [
        "pred1 = forest1.predict(X_important_train)\n",
        "pred1_test = forest1.predict(X_important_test)\n",
        "\n",
        "#train\n",
        "cfm1 = confusion_matrix(y_train,pred1)\n",
        "t1 = sum(sum(cfm1))\n",
        "acc1 = (cfm1[0,0]+cfm1[1,1])/t1 \n",
        "print(\"Accuracy of train set\",acc1)\n",
        "\n",
        "#test\n",
        "cfm2 = confusion_matrix(y_test,pred1_test)\n",
        "t2 = sum(sum(cfm2))\n",
        "acc2 = (cfm2[0,0]+cfm2[1,1])/t2\n",
        "print(\"Accuracy of train set\",acc2)"
      ],
      "execution_count": null,
      "outputs": [
        {
          "output_type": "stream",
          "text": [
            "Accuracy of train set 0.8290306867998052\n",
            "Accuracy of train set 0.8036796536796537\n"
          ],
          "name": "stdout"
        }
      ]
    },
    {
      "cell_type": "code",
      "metadata": {
        "colab": {
          "base_uri": "https://localhost:8080/"
        },
        "id": "cxPoqBhl8Hge",
        "outputId": "757ee52c-c374-4305-9080-92242c17f6cb"
      },
      "source": [
        "y_important_pred = forest1.predict(X_important_test)\n",
        "rf_imp_fscore = f1_score(y_test, y_important_pred)\n",
        "print(rf_imp_fscore)"
      ],
      "execution_count": null,
      "outputs": [
        {
          "output_type": "stream",
          "text": [
            "0.8494105927278763\n"
          ],
          "name": "stdout"
        }
      ]
    },
    {
      "cell_type": "code",
      "metadata": {
        "id": "iReXCIJh8RCX"
      },
      "source": [
        ""
      ],
      "execution_count": null,
      "outputs": []
    }
  ]
}